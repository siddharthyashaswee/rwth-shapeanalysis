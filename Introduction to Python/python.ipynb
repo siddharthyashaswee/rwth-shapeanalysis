{
 "cells": [
  {
   "cell_type": "markdown",
   "id": "tired-mills",
   "metadata": {},
   "source": [
    "## A short Introduction to Python\n",
    "\n",
    "We will give a short introduction to the programming language python here.\n",
    "It is a dynamically typed language that comes with a vast eco-system of mature libraries for data science and machine learning. \n",
    "\n",
    "In this exercise we can only give you a (very) short introduction. However, python is a fairly simple language and with your prior knowledge from other programming languages you should be able to program the solutions for the practical exercises without too many difficulties. For further resource you can look [here](https://wiki.python.org/moin/BeginnersGuide/Programmers) and for a very quick overview [here](https://learnxinyminutes.com/docs/python/)."
   ]
  },
  {
   "cell_type": "code",
   "execution_count": 1,
   "id": "retired-pierre",
   "metadata": {},
   "outputs": [
    {
     "data": {
      "text/plain": [
       "(7.0, 12.0, 0.75, 1, 0, 9)"
      ]
     },
     "execution_count": 1,
     "metadata": {},
     "output_type": "execute_result"
    }
   ],
   "source": [
    "x = 3\n",
    "y = 4.\n",
    "x + y, x * y, x / y, x // 2, x % 3, x**2"
   ]
  },
  {
   "cell_type": "code",
   "execution_count": 2,
   "id": "affected-dress",
   "metadata": {},
   "outputs": [
    {
     "name": "stdout",
     "output_type": "stream",
     "text": [
      "bar: 6\n"
     ]
    }
   ],
   "source": [
    "#if-else block\n",
    "x = 6\n",
    "if x == 3:\n",
    "    print(\"foo\")\n",
    "elif x > 3:\n",
    "    #f means formatted string literal, {} means an expression can go here\n",
    "    print(f\"bar: {x}\")\n",
    "else:\n",
    "    print(\"-------\")"
   ]
  },
  {
   "cell_type": "code",
   "execution_count": 10,
   "id": "injured-dispatch",
   "metadata": {},
   "outputs": [
    {
     "data": {
      "text/plain": [
       "({0: 7, 1: 8, 2: 9, 3: 10, 4: 11}, [7, 8, 9, 10, 11], {7, 8, 9, 10, 11})"
      ]
     },
     "execution_count": 10,
     "metadata": {},
     "output_type": "execute_result"
    }
   ],
   "source": [
    "#dictionaries, list and sets\n",
    "d = {} # or dict()\n",
    "l = []\n",
    "s = set()\n",
    "\n",
    "#range() defines a list, excluding last value\n",
    "#enumerate counts that list while also having the value\n",
    "# i-counter, j-actual value (see bookmark in numpy)\n",
    "for i,j in enumerate(range(7,7+5)):\n",
    "    #if not in dict, make a name-value pair\n",
    "    if i not in d:\n",
    "        d[i] = j\n",
    "    #add value to list\n",
    "    l.append(j)\n",
    "    #add value to set\n",
    "    s.add(j)\n",
    "d, l, s"
   ]
  },
  {
   "cell_type": "code",
   "execution_count": 11,
   "id": "controlled-printer",
   "metadata": {},
   "outputs": [
    {
     "data": {
      "text/plain": [
       "[14, 16, 18, 20, 22]"
      ]
     },
     "execution_count": 11,
     "metadata": {},
     "output_type": "execute_result"
    }
   ],
   "source": [
    "#take all elements from l and multiply by 2\n",
    "l2 = [i*2 for i in l]\n",
    "l2"
   ]
  },
  {
   "cell_type": "code",
   "execution_count": 6,
   "id": "exceptional-alpha",
   "metadata": {},
   "outputs": [],
   "source": [
    "t = (0,1,2)\n",
    "#'tuple' object does not support item assignment\n",
    "#t[0] = 1 \n",
    "# tuples are immutable"
   ]
  },
  {
   "cell_type": "code",
   "execution_count": 7,
   "id": "interstate-tenant",
   "metadata": {},
   "outputs": [
    {
     "name": "stdout",
     "output_type": "stream",
     "text": [
      "x is 6 and y is 4.0\n"
     ]
    },
    {
     "data": {
      "text/plain": [
       "10.0"
      ]
     },
     "execution_count": 7,
     "metadata": {},
     "output_type": "execute_result"
    }
   ],
   "source": [
    "def add(x, y):\n",
    "    print(f\"x is {x} and y is {y}\")\n",
    "    return x + y\n",
    "add(x,y)"
   ]
  },
  {
   "cell_type": "code",
   "execution_count": 12,
   "id": "becoming-democracy",
   "metadata": {},
   "outputs": [
    {
     "data": {
      "text/plain": [
       "(6, 12)"
      ]
     },
     "execution_count": 12,
     "metadata": {},
     "output_type": "execute_result"
    }
   ],
   "source": [
    "#default args\n",
    "def foo(a, b=1):\n",
    "    return a*b\n",
    "\n",
    "foo(x), foo(x,2)"
   ]
  },
  {
   "cell_type": "code",
   "execution_count": 29,
   "id": "formed-fantasy",
   "metadata": {},
   "outputs": [
    {
     "name": "stdout",
     "output_type": "stream",
     "text": [
      "(1, 2, 3)\n",
      "{'x': 4, 'y': 'Hi'}\n"
     ]
    }
   ],
   "source": [
    "#*args allows you to pass an arbitrary number of arguments\n",
    "#**kwargs allows you to handle named arguments\n",
    "#see bookmarks in numpy from stackoverflow\n",
    "def bar(*args, **kwargs):\n",
    "    print(args)\n",
    "    print(kwargs)\n",
    "    \n",
    "bar(1, 2, 3, x=4, y='Hi')"
   ]
  },
  {
   "cell_type": "code",
   "execution_count": 31,
   "id": "absent-status",
   "metadata": {},
   "outputs": [
    {
     "name": "stdout",
     "output_type": "stream",
     "text": [
      "(7, 8, 9, 10, 11)\n",
      "{'x': 4, 'y': 'Hi'}\n"
     ]
    }
   ],
   "source": [
    "#when using * you can also omit it in the function definition\n",
    "#but only for args, when using with kwargs, better make all definitions nice and clean\n",
    "bar(*l, x=4, y='Hi')"
   ]
  },
  {
   "cell_type": "code",
   "execution_count": 32,
   "id": "above-animal",
   "metadata": {},
   "outputs": [
    {
     "name": "stdout",
     "output_type": "stream",
     "text": [
      "4 5\n"
     ]
    }
   ],
   "source": [
    "class Foo:\n",
    "    #constructor for class\n",
    "    #self is the class instance - remember this keyword in java\n",
    "    def __init__(self, a, b):\n",
    "        self.a = a\n",
    "        self.b = b\n",
    "        \n",
    "    def bla(self):\n",
    "        print(self.a, self.b)\n",
    "        \n",
    "f = Foo(4,5)\n",
    "f.bla()"
   ]
  },
  {
   "cell_type": "markdown",
   "id": "continuing-editor",
   "metadata": {},
   "source": [
    "## Jupyter notebook pit fall\n",
    "A common pitfall when using notebooks is that state is preserved between cell calls.\n",
    "To make sure you did not accidentally overwrite or delete necessary variables call `Kernel -> Restart & Run All`"
   ]
  }
 ],
 "metadata": {
  "kernelspec": {
   "display_name": "Python 3 (ipykernel)",
   "language": "python",
   "name": "python3"
  },
  "language_info": {
   "codemirror_mode": {
    "name": "ipython",
    "version": 3
   },
   "file_extension": ".py",
   "mimetype": "text/x-python",
   "name": "python",
   "nbconvert_exporter": "python",
   "pygments_lexer": "ipython3",
   "version": "3.8.16"
  }
 },
 "nbformat": 4,
 "nbformat_minor": 5
}
