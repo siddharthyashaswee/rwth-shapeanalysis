{
 "cells": [
  {
   "cell_type": "markdown",
   "id": "pediatric-island",
   "metadata": {},
   "source": [
    "# OpenMesh & 3D Visualization\n",
    "In this notebook we give a short introduction to [OpenMesh](https://www.graphics.rwth-aachen.de/software/openmesh/) (a datastructure to store and manipulate polygonal meshes). Here we will take a look at the python bindings for the OpenMesh C++ library. In general you can refer to the C++ [documentation](https://www.graphics.rwth-aachen.de/media/openmesh_static/Daily-Builds/Doc/index.html) and look at the tests for the [python bindings](https://www.graphics.rwth-aachen.de:9000/OpenMesh/openmesh-python).\n",
    "\n",
    "For 3D visualization in jupyter notebooks we will use [k3d](https://github.com/K3D-tools/K3D-jupyter). For details read the [documentation](https://k3d-jupyter.org/) and check out the [examples](https://github.com/K3D-tools/K3D-jupyter/tree/master/examples)."
   ]
  },
  {
   "cell_type": "code",
   "execution_count": 1,
   "id": "retired-posting",
   "metadata": {
    "scrolled": true
   },
   "outputs": [],
   "source": [
    "import openmesh as om\n",
    "import k3d"
   ]
  },
  {
   "cell_type": "code",
   "execution_count": 2,
   "id": "needed-guess",
   "metadata": {},
   "outputs": [],
   "source": [
    "mesh = om.read_trimesh(\"spot/spot_triangulated.obj\")"
   ]
  },
  {
   "cell_type": "code",
   "execution_count": 3,
   "id": "standing-jacob",
   "metadata": {},
   "outputs": [
    {
     "data": {
      "text/plain": [
       "(array([[ 0.34879899, -0.33498901, -0.0832331 ],\n",
       "        [ 0.31313199, -0.39905101,  0.88119203],\n",
       "        [ 0.26675799,  0.181628  ,  0.122726  ],\n",
       "        ...,\n",
       "        [-0.0132272 , -0.0889316 ,  1.04223001],\n",
       "        [-0.01374   , -0.0942759 ,  1.03401995],\n",
       "        [-0.0137291 , -0.0795664 ,  1.04691994]]),\n",
       " (2930, 3))"
      ]
     },
     "execution_count": 3,
     "metadata": {},
     "output_type": "execute_result"
    }
   ],
   "source": [
    "mesh.points(), mesh.points().shape"
   ]
  },
  {
   "cell_type": "code",
   "execution_count": 4,
   "id": "golden-pledge",
   "metadata": {},
   "outputs": [
    {
     "data": {
      "text/plain": [
       "(array([[ 738,  734,  735],\n",
       "        [ 188,  735,  734],\n",
       "        [ 191,  737,  736],\n",
       "        ...,\n",
       "        [1855,  107, 2929],\n",
       "        [2927, 2929,  733],\n",
       "        [2923,  733, 2929]]),\n",
       " (5856, 3))"
      ]
     },
     "execution_count": 4,
     "metadata": {},
     "output_type": "execute_result"
    }
   ],
   "source": [
    "mesh.fv_indices(), mesh.fv_indices().shape"
   ]
  },
  {
   "cell_type": "code",
   "execution_count": 5,
   "id": "fluid-recruitment",
   "metadata": {},
   "outputs": [
    {
     "name": "stdout",
     "output_type": "stream",
     "text": [
      "0 738\n",
      "0 734\n",
      "0 735\n"
     ]
    }
   ],
   "source": [
    "for f in mesh.faces():\n",
    "    for v in mesh.fv(f):\n",
    "        #prints index of face, vertices of the face\n",
    "        print(f.idx(), v.idx())\n",
    "    break\n",
    "#read output as face no. 0 is made from vertex numbers: (738,734,735)"
   ]
  },
  {
   "cell_type": "markdown",
   "id": "composed-polish",
   "metadata": {},
   "source": [
    "## Visualization"
   ]
  },
  {
   "cell_type": "code",
   "execution_count": 6,
   "id": "fifty-monte",
   "metadata": {
    "scrolled": true
   },
   "outputs": [
    {
     "name": "stderr",
     "output_type": "stream",
     "text": [
      "C:\\Users\\lenovo1\\.conda\\envs\\shapeanalysis\\lib\\site-packages\\traittypes\\traittypes.py:97: UserWarning: Given trait value dtype \"float64\" does not match required type \"float32\". A coerced copy has been created.\n",
      "  warnings.warn(\n"
     ]
    },
    {
     "data": {
      "application/vnd.jupyter.widget-view+json": {
       "model_id": "c1c53bd653cd49f09d192a29b12b16e4",
       "version_major": 2,
       "version_minor": 0
      },
      "text/plain": [
       "Output()"
      ]
     },
     "metadata": {},
     "output_type": "display_data"
    }
   ],
   "source": [
    "k3d.points(mesh.points(), point_size=0.05)"
   ]
  },
  {
   "cell_type": "code",
   "execution_count": 7,
   "id": "french-measure",
   "metadata": {},
   "outputs": [
    {
     "name": "stderr",
     "output_type": "stream",
     "text": [
      "C:\\Users\\lenovo1\\.conda\\envs\\shapeanalysis\\lib\\site-packages\\traittypes\\traittypes.py:97: UserWarning: Given trait value dtype \"int32\" does not match required type \"uint32\". A coerced copy has been created.\n",
      "  warnings.warn(\n"
     ]
    },
    {
     "data": {
      "application/vnd.jupyter.widget-view+json": {
       "model_id": "fafe083106794b9fb042ceba32407f38",
       "version_major": 2,
       "version_minor": 0
      },
      "text/plain": [
       "Output()"
      ]
     },
     "metadata": {},
     "output_type": "display_data"
    }
   ],
   "source": [
    "k3d.mesh(mesh.points(), mesh.fv_indices())"
   ]
  },
  {
   "cell_type": "code",
   "execution_count": 8,
   "id": "systematic-criticism",
   "metadata": {},
   "outputs": [
    {
     "data": {
      "application/vnd.jupyter.widget-view+json": {
       "model_id": "ca7eaf616c8e485c87cd7138c3134b48",
       "version_major": 2,
       "version_minor": 0
      },
      "text/plain": [
       "Output()"
      ]
     },
     "metadata": {},
     "output_type": "display_data"
    }
   ],
   "source": [
    "plot = k3d.plot()\n",
    "#add mesh to the plot\n",
    "plot += k3d.mesh(mesh.points(), mesh.fv_indices())\n",
    "y_coords = mesh.points()[:,1]\n",
    "color_range = (y_coords.min(), y_coords.max())\n",
    "point_colors = k3d.helpers.map_colors(y_coords, color_map=k3d.matplotlib_color_maps.viridis, color_range=color_range)\n",
    "#add colorful points to the plot in addition to the already present mesh\n",
    "plot += k3d.points(mesh.points(), point_size=0.03, colors=point_colors)\n",
    "plot.display()"
   ]
  },
  {
   "cell_type": "code",
   "execution_count": 9,
   "id": "3b9ba560",
   "metadata": {},
   "outputs": [
    {
     "data": {
      "application/vnd.jupyter.widget-view+json": {
       "model_id": "ea79c540ae1b430fa1b281929f75e866",
       "version_major": 2,
       "version_minor": 0
      },
      "text/plain": [
       "Output()"
      ]
     },
     "metadata": {},
     "output_type": "display_data"
    }
   ],
   "source": [
    "plot = k3d.plot(background_color=0x1e1e1e,\n",
    "                grid_color=0xd2d2d2,\n",
    "                label_color=0xf0f0f0)\n",
    "\n",
    "plot.display()"
   ]
  }
 ],
 "metadata": {
  "kernelspec": {
   "display_name": "Python 3 (ipykernel)",
   "language": "python",
   "name": "python3"
  },
  "language_info": {
   "codemirror_mode": {
    "name": "ipython",
    "version": 3
   },
   "file_extension": ".py",
   "mimetype": "text/x-python",
   "name": "python",
   "nbconvert_exporter": "python",
   "pygments_lexer": "ipython3",
   "version": "3.8.16"
  }
 },
 "nbformat": 4,
 "nbformat_minor": 5
}
