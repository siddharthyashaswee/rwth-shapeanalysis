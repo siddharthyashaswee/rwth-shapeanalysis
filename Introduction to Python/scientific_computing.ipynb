{
 "cells": [
  {
   "cell_type": "markdown",
   "id": "orange-highway",
   "metadata": {},
   "source": [
    "# Scientific computing with python\n",
    "The most common libraries for scientific computing with python are [numpy](https://numpy.org/doc/stable/) and [scipy](https://docs.scipy.org/doc/scipy/reference/).\n",
    "\n",
    "We can only give a short introduction here. However, the official documentation and guides are fairly well explained."
   ]
  },
  {
   "cell_type": "code",
   "execution_count": 2,
   "id": "liked-genealogy",
   "metadata": {},
   "outputs": [],
   "source": [
    "import numpy as np\n",
    "import scipy"
   ]
  },
  {
   "cell_type": "code",
   "execution_count": 32,
   "id": "positive-natural",
   "metadata": {},
   "outputs": [
    {
     "data": {
      "text/plain": [
       "array([1., 2., 3.])"
      ]
     },
     "execution_count": 32,
     "metadata": {},
     "output_type": "execute_result"
    }
   ],
   "source": [
    "vec = np.array([1.,2.,3.])\n",
    "vec"
   ]
  },
  {
   "cell_type": "code",
   "execution_count": 3,
   "id": "instructional-twenty",
   "metadata": {},
   "outputs": [
    {
     "data": {
      "text/plain": [
       "array([1, 2, 3], dtype=int64)"
      ]
     },
     "execution_count": 3,
     "metadata": {},
     "output_type": "execute_result"
    }
   ],
   "source": [
    "int_vec = np.array([1.,2.,3.,], dtype=np.int64)\n",
    "int_vec"
   ]
  },
  {
   "cell_type": "code",
   "execution_count": 4,
   "id": "separated-completion",
   "metadata": {},
   "outputs": [
    {
     "data": {
      "text/plain": [
       "array([[1., 2., 3.],\n",
       "       [4., 5., 6.]])"
      ]
     },
     "execution_count": 4,
     "metadata": {},
     "output_type": "execute_result"
    }
   ],
   "source": [
    "mat = np.array([[1., 2., 3.],\n",
    "                [4., 5., 6.]])\n",
    "mat"
   ]
  },
  {
   "cell_type": "code",
   "execution_count": 5,
   "id": "thermal-combine",
   "metadata": {},
   "outputs": [
    {
     "data": {
      "text/plain": [
       "((3,), 1, (2, 3), 2)"
      ]
     },
     "execution_count": 5,
     "metadata": {},
     "output_type": "execute_result"
    }
   ],
   "source": [
    "vec.shape, vec.ndim, mat.shape, mat.ndim"
   ]
  },
  {
   "cell_type": "code",
   "execution_count": 6,
   "id": "increasing-subject",
   "metadata": {},
   "outputs": [
    {
     "data": {
      "text/plain": [
       "(array([[-0.08293982, -1.76640985, -0.66131766],\n",
       "        [-0.21718537, -0.97275055,  1.39161773]]),\n",
       " array([[1., 1., 1.],\n",
       "        [1., 1., 1.],\n",
       "        [1., 1., 1.]]),\n",
       " array([[0., 0.],\n",
       "        [0., 0.],\n",
       "        [0., 0.]]),\n",
       " array([[1., 0.],\n",
       "        [0., 1.]]))"
      ]
     },
     "execution_count": 6,
     "metadata": {},
     "output_type": "execute_result"
    }
   ],
   "source": [
    "np.random.randn(2,3), np.ones((3,3)), np.zeros((3,2)), np.eye(2)"
   ]
  },
  {
   "cell_type": "markdown",
   "id": "attended-armor",
   "metadata": {},
   "source": [
    "## Broadcasting"
   ]
  },
  {
   "cell_type": "code",
   "execution_count": 15,
   "id": "civil-iceland",
   "metadata": {},
   "outputs": [
    {
     "data": {
      "text/plain": [
       "(array([[1., 2., 3.],\n",
       "        [4., 5., 6.]]),\n",
       " array([1., 2., 3.]))"
      ]
     },
     "execution_count": 15,
     "metadata": {},
     "output_type": "execute_result"
    }
   ],
   "source": [
    "#also see broadcasting bookmark in numpy\n",
    "mat, vec"
   ]
  },
  {
   "cell_type": "code",
   "execution_count": 16,
   "id": "eb7f07c0",
   "metadata": {},
   "outputs": [
    {
     "data": {
      "text/plain": [
       "((3, 2), (3,))"
      ]
     },
     "execution_count": 16,
     "metadata": {},
     "output_type": "execute_result"
    }
   ],
   "source": [
    "mat.T.shape, vec.shape"
   ]
  },
  {
   "cell_type": "code",
   "execution_count": 17,
   "id": "mathematical-institution",
   "metadata": {},
   "outputs": [
    {
     "data": {
      "text/plain": [
       "(array([[0., 0., 0.],\n",
       "        [3., 3., 3.]]),\n",
       " array([[1. , 1. , 1. ],\n",
       "        [4. , 2.5, 2. ]]),\n",
       " array([[ 1.,  4.,  9.],\n",
       "        [ 4., 10., 18.]]))"
      ]
     },
     "execution_count": 17,
     "metadata": {},
     "output_type": "execute_result"
    }
   ],
   "source": [
    "#vec is automatically transposed to fit the shape of mat possible\n",
    "#all ops are element-wise\n",
    "mat - vec, mat / vec, mat * vec,"
   ]
  },
  {
   "cell_type": "markdown",
   "id": "published-white",
   "metadata": {},
   "source": [
    "## Operations"
   ]
  },
  {
   "cell_type": "code",
   "execution_count": 18,
   "id": "palestinian-melbourne",
   "metadata": {},
   "outputs": [
    {
     "data": {
      "text/plain": [
       "array([14., 32.])"
      ]
     },
     "execution_count": 18,
     "metadata": {},
     "output_type": "execute_result"
    }
   ],
   "source": [
    "#normal matrix mutiplication\n",
    "mat @ vec # python 3."
   ]
  },
  {
   "cell_type": "code",
   "execution_count": 19,
   "id": "adjustable-equation",
   "metadata": {},
   "outputs": [
    {
     "data": {
      "text/plain": [
       "array([14., 32.])"
      ]
     },
     "execution_count": 19,
     "metadata": {},
     "output_type": "execute_result"
    }
   ],
   "source": [
    "#same as @\n",
    "np.matmul(mat, vec)"
   ]
  },
  {
   "cell_type": "code",
   "execution_count": 20,
   "id": "informed-questionnaire",
   "metadata": {},
   "outputs": [
    {
     "data": {
      "text/plain": [
       "(1.0, array([2., 3.]), array([1., 2.]), array([2., 3.]))"
      ]
     },
     "execution_count": 20,
     "metadata": {},
     "output_type": "execute_result"
    }
   ],
   "source": [
    "#slicing always excludes the last index\n",
    "#1. start including 1st pos, end excluding the 3rd number\n",
    "#2. start from 0th, end before the last\n",
    "#3. start from second last(including), end at end(including cuz here : specified)\n",
    "vec[0], vec[1:3], vec[:-1], vec[-2:]"
   ]
  },
  {
   "cell_type": "code",
   "execution_count": 21,
   "id": "endangered-extraction",
   "metadata": {},
   "outputs": [
    {
     "data": {
      "text/plain": [
       "(6.0, 6.0, array([1., 4.]), array([4., 5., 6.]))"
      ]
     },
     "execution_count": 21,
     "metadata": {},
     "output_type": "execute_result"
    }
   ],
   "source": [
    "#3. take all rows but only 1st col, 4. take 2nd row and all cols\n",
    "#will not preserve shape - use keepdims=true for that\n",
    "mat[1][2], mat[1,2], mat[:,0], mat[1,:]"
   ]
  },
  {
   "cell_type": "code",
   "execution_count": 48,
   "id": "b4c857a3",
   "metadata": {},
   "outputs": [
    {
     "name": "stdout",
     "output_type": "stream",
     "text": [
      "[1. 2. 3.]\n",
      "(3,)\n",
      "[[1. 2. 3.]]\n",
      "(1, 3)\n",
      "[[1.]\n",
      " [2.]\n",
      " [3.]]\n",
      "(3, 1)\n"
     ]
    }
   ],
   "source": [
    "print(vec)\n",
    "print(vec.shape)\n",
    "#list so shape is (3,0)\n",
    "\n",
    "A = vec[None,:]\n",
    "#adds a dim at front, same as transpose\n",
    "print(A)\n",
    "print(A.shape)\n",
    "\n",
    "B = vec[:, None]\n",
    "#adds a dim at back, like a matrix\n",
    "print(B)\n",
    "print(B.shape)"
   ]
  },
  {
   "cell_type": "code",
   "execution_count": 49,
   "id": "loaded-relaxation",
   "metadata": {},
   "outputs": [
    {
     "data": {
      "text/plain": [
       "(array([[14.]]), 14.0, 14.0)"
      ]
     },
     "execution_count": 49,
     "metadata": {},
     "output_type": "execute_result"
    }
   ],
   "source": [
    "#inner and dot product are same thing for a finite-dim space(a.T @ b)\n",
    "#see outer product (np.outer) for (a @ b.T)\n",
    "#below is basically vec.T @ vec\n",
    "vec[None,:] @ vec[:, None], np.inner(vec, vec), np.dot(vec,vec)"
   ]
  },
  {
   "cell_type": "code",
   "execution_count": 22,
   "id": "duplicate-confusion",
   "metadata": {
    "scrolled": true
   },
   "outputs": [
    {
     "data": {
      "text/plain": [
       "(array([[1., 4.],\n",
       "        [2., 5.],\n",
       "        [3., 6.]]),\n",
       " (3, 2))"
      ]
     },
     "execution_count": 22,
     "metadata": {},
     "output_type": "execute_result"
    }
   ],
   "source": [
    "mat.T, mat.T.shape"
   ]
  },
  {
   "cell_type": "code",
   "execution_count": 23,
   "id": "military-arnold",
   "metadata": {},
   "outputs": [
    {
     "data": {
      "text/plain": [
       "(3.5, array([2.5, 3.5, 4.5]), array([2., 5.]))"
      ]
     },
     "execution_count": 23,
     "metadata": {},
     "output_type": "execute_result"
    }
   ],
   "source": [
    "np.mean(mat), np.mean(mat, axis=0), np.mean(mat, axis=1) # also sum, max, min\n",
    "#to preserve shape - use keepdims=true"
   ]
  },
  {
   "cell_type": "code",
   "execution_count": 27,
   "id": "activated-karma",
   "metadata": {},
   "outputs": [
    {
     "data": {
      "text/plain": [
       "(array([[0, 1, 2, 3, 4],\n",
       "        [5, 6, 7, 8, 9]]),\n",
       " (2, 5))"
      ]
     },
     "execution_count": 27,
     "metadata": {},
     "output_type": "execute_result"
    }
   ],
   "source": [
    "#reshape needs to be assigned like A=A.reshape(...)\n",
    "A = np.arange(10).reshape(2,5)\n",
    "A, A.shape"
   ]
  },
  {
   "cell_type": "code",
   "execution_count": 29,
   "id": "33d0b421",
   "metadata": {},
   "outputs": [],
   "source": [
    "vec = np.random.rand(10000)"
   ]
  },
  {
   "cell_type": "code",
   "execution_count": 54,
   "id": "6f766fe2",
   "metadata": {},
   "outputs": [
    {
     "name": "stdout",
     "output_type": "stream",
     "text": [
      "1.14 µs ± 196 ns per loop (mean ± std. dev. of 10 runs, 100 loops each)\n"
     ]
    }
   ],
   "source": [
    "%%timeit -r 10 -n 100\n",
    "#Measure execution time of small code snippets\n",
    "#-r how many times to repeat the timer (default 5)\n",
    "#-n how many times to execute ‘statement’\n",
    "#needs to be the first line of execution\n",
    "for i in range(vec.shape[0]):\n",
    "    vec[i] ** 2"
   ]
  },
  {
   "cell_type": "code",
   "execution_count": 55,
   "id": "b988096a",
   "metadata": {},
   "outputs": [
    {
     "name": "stdout",
     "output_type": "stream",
     "text": [
      "548 ns ± 87.3 ns per loop (mean ± std. dev. of 10 runs, 100 loops each)\n"
     ]
    }
   ],
   "source": [
    "#use vector ops, they fast\n",
    "%%timeit -r 10 -n 100\n",
    "vec ** 2"
   ]
  },
  {
   "cell_type": "markdown",
   "id": "dental-infrared",
   "metadata": {},
   "source": [
    "## Sparse matrices with scipy"
   ]
  },
  {
   "cell_type": "code",
   "execution_count": 61,
   "id": "sticky-qualification",
   "metadata": {},
   "outputs": [],
   "source": [
    "from scipy.sparse import coo_matrix\n",
    "#A sparse matrix in COOrdinate format."
   ]
  },
  {
   "cell_type": "code",
   "execution_count": 62,
   "id": "tight-jonathan",
   "metadata": {},
   "outputs": [],
   "source": [
    "#row and col define the coordinates of the data\n",
    "row  = np.array([0, 3, 1, 0])\n",
    "col  = np.array([0, 3, 1, 2])\n",
    "data = np.array([4, 5, 7, 9])\n",
    "\n",
    "B = coo_matrix((data, (row, col)), shape=(4, 4))"
   ]
  },
  {
   "cell_type": "code",
   "execution_count": 63,
   "id": "affected-korea",
   "metadata": {},
   "outputs": [
    {
     "name": "stdout",
     "output_type": "stream",
     "text": [
      "  (0, 0)\t4\n",
      "  (3, 3)\t5\n",
      "  (1, 1)\t7\n",
      "  (0, 2)\t9\n"
     ]
    }
   ],
   "source": [
    "print(B)"
   ]
  },
  {
   "cell_type": "code",
   "execution_count": 64,
   "id": "sorted-techno",
   "metadata": {},
   "outputs": [
    {
     "data": {
      "text/plain": [
       "matrix([[4, 0, 9, 0],\n",
       "        [0, 7, 0, 0],\n",
       "        [0, 0, 0, 0],\n",
       "        [0, 0, 0, 5]])"
      ]
     },
     "execution_count": 64,
     "metadata": {},
     "output_type": "execute_result"
    }
   ],
   "source": [
    "B.todense()"
   ]
  },
  {
   "cell_type": "code",
   "execution_count": 76,
   "id": "704b87b3",
   "metadata": {},
   "outputs": [
    {
     "data": {
      "text/plain": [
       "5"
      ]
     },
     "execution_count": 76,
     "metadata": {},
     "output_type": "execute_result"
    }
   ],
   "source": [
    "C = B.todense()\n",
    "C[-1,-1]"
   ]
  },
  {
   "cell_type": "code",
   "execution_count": 69,
   "id": "maritime-teacher",
   "metadata": {},
   "outputs": [
    {
     "name": "stdout",
     "output_type": "stream",
     "text": [
      "  (0, 2)\t9\n",
      "  (0, 0)\t4\n",
      "  (1, 0)\t7\n",
      "  (3, 0)\t5\n"
     ]
    },
    {
     "data": {
      "text/plain": [
       "(None, None, None)"
      ]
     },
     "execution_count": 69,
     "metadata": {},
     "output_type": "execute_result"
    }
   ],
   "source": [
    "# B[0,0] can't access sparse matrices directly\n",
    "print(B.getrow(0)), print(B.getcol(1)),  print(B.getcol(-1))"
   ]
  },
  {
   "cell_type": "code",
   "execution_count": 67,
   "id": "impossible-yellow",
   "metadata": {},
   "outputs": [
    {
     "data": {
      "text/plain": [
       "(4, 9, 0, 5)"
      ]
     },
     "execution_count": 67,
     "metadata": {},
     "output_type": "execute_result"
    }
   ],
   "source": [
    "#if value is present, it will display it, otherwise will display 0\n",
    "B.getrow(0)[0,0], B.getrow(0)[0,2], B.getrow(0)[0,3], B.getcol(-1)[-1,0]"
   ]
  },
  {
   "cell_type": "code",
   "execution_count": 83,
   "id": "unlikely-result",
   "metadata": {},
   "outputs": [
    {
     "data": {
      "text/plain": [
       "matrix([[ 1.,  0., 13.,  0.,  0.],\n",
       "        [ 6.,  2.,  0., 14.,  0.],\n",
       "        [ 0.,  5.,  3.,  0., 15.],\n",
       "        [ 0.,  0.,  8.,  4.,  0.],\n",
       "        [ 0.,  0.,  0.,  9.,  5.]])"
      ]
     },
     "execution_count": 83,
     "metadata": {},
     "output_type": "execute_result"
    }
   ],
   "source": [
    "#first arg [[1., 2, 3, 4, 5], [6, 5, 8, 9, 10]] is data to set\n",
    "#2nd arg:\n",
    "#k = 0 the main diagonal\n",
    "#k > 0 the kth upper diagonal\n",
    "#k < 0 the kth lower diagonal\n",
    "#last two args tell the shape of the matrix\n",
    "mtx = scipy.sparse.spdiags([[1., 2, 3, 4, 5], [6, 5, 8, 9, 10], [11,12,13,14,15]], [0, -1, 2], 5, 5)\n",
    "mtx.todense()"
   ]
  },
  {
   "cell_type": "code",
   "execution_count": 84,
   "id": "falling-oakland",
   "metadata": {},
   "outputs": [],
   "source": [
    "rhs = np.array([1, 2, 3, 4, 5], dtype=np.float32)"
   ]
  },
  {
   "cell_type": "code",
   "execution_count": 72,
   "id": "applied-burner",
   "metadata": {},
   "outputs": [
    {
     "name": "stderr",
     "output_type": "stream",
     "text": [
      "C:\\Users\\lenovo1\\.conda\\envs\\shapeanalysis\\lib\\site-packages\\scipy\\sparse\\linalg\\_dsolve\\linsolve.py:214: SparseEfficiencyWarning: spsolve requires A be CSC or CSR matrix format\n",
      "  warn('spsolve requires A be CSC or CSR matrix format',\n"
     ]
    },
    {
     "data": {
      "text/plain": [
       "array([ 1.        , -2.        ,  4.33333333, -7.66666667, 14.8       ])"
      ]
     },
     "execution_count": 72,
     "metadata": {},
     "output_type": "execute_result"
    }
   ],
   "source": [
    "#solving a linear system Ax=B\n",
    "import scipy.sparse.linalg\n",
    "scipy.sparse.linalg.spsolve(mtx, rhs)"
   ]
  },
  {
   "cell_type": "code",
   "execution_count": 86,
   "id": "plain-responsibility",
   "metadata": {},
   "outputs": [
    {
     "data": {
      "text/plain": [
       "(array([16.11758132 +0.j       , -3.04909959+10.8536174j,\n",
       "        -3.04909959-10.8536174j]),\n",
       " array([[-0.45953717+0.j        ,  0.41664028-0.33136012j,\n",
       "          0.41664028+0.33136012j],\n",
       "        [-0.54516992+0.j        , -0.57141505-0.20233191j,\n",
       "         -0.57141505+0.20233191j],\n",
       "        [-0.53439158+0.j        ,  0.14687984+0.4510588j ,\n",
       "          0.14687984-0.4510588j ],\n",
       "        [-0.35280412+0.j        ,  0.18438021-0.22801183j,\n",
       "          0.18438021+0.22801183j],\n",
       "        [-0.28560503+0.j        , -0.19513568-0.00817749j,\n",
       "         -0.19513568+0.00817749j]]))"
      ]
     },
     "execution_count": 86,
     "metadata": {},
     "output_type": "execute_result"
    }
   ],
   "source": [
    "#k-number of eigenvalues and eigenvectors desired. k must be smaller than N-1\n",
    "#which finds the LM-largest magnitude(see docs for more)\n",
    "#return - w: k eigenvalues\n",
    "#k eigenvectors. v[:, i] is the eigenvector corresponding to the eigenvalue w[i].\n",
    "scipy.sparse.linalg.eigs(mtx, k=3, which='LM')"
   ]
  },
  {
   "cell_type": "code",
   "execution_count": 3,
   "id": "df23d74e",
   "metadata": {},
   "outputs": [
    {
     "data": {
      "text/plain": [
       "(array([ 1,  2,  4,  5,  5,  6,  8, 10]),\n",
       " array([0, 2, 3, 4, 5, 6, 1, 7], dtype=int64),\n",
       " array([4, 5, 6, 1, 7], dtype=int64),\n",
       " array([6, 1, 7], dtype=int64))"
      ]
     },
     "execution_count": 3,
     "metadata": {},
     "output_type": "execute_result"
    }
   ],
   "source": [
    "#useful for above situation\n",
    "K = np.array([1,8,2,4,5,5,6,10])\n",
    "#prints indices of sorted array(asc), last 5 items, items from 5th element to last(see slicing in numpy)\n",
    "np.sort(K), np.argsort(K), np.argsort(K)[-5:], np.argsort(K)[5:]"
   ]
  }
 ],
 "metadata": {
  "kernelspec": {
   "display_name": "Python 3 (ipykernel)",
   "language": "python",
   "name": "python3"
  },
  "language_info": {
   "codemirror_mode": {
    "name": "ipython",
    "version": 3
   },
   "file_extension": ".py",
   "mimetype": "text/x-python",
   "name": "python",
   "nbconvert_exporter": "python",
   "pygments_lexer": "ipython3",
   "version": "3.8.16"
  }
 },
 "nbformat": 4,
 "nbformat_minor": 5
}
