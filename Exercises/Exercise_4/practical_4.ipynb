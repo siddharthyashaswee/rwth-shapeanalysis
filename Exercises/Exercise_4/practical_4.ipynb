{
 "cells": [
  {
   "cell_type": "markdown",
   "id": "c65b7c1c",
   "metadata": {},
   "source": [
    "Before you turn this problem in, make sure everything runs as expected. First, **restart the kernel** (in the menubar, select Kernel$\\rightarrow$Restart) and then **run all cells** (in the menubar, select Cell$\\rightarrow$Run All).\n",
    "\n",
    "Make sure you fill in any place that says `YOUR CODE HERE` or \"YOUR ANSWER HERE\", as well as your name and collaborators below:"
   ]
  },
  {
   "cell_type": "code",
   "execution_count": 1,
   "id": "5876c540",
   "metadata": {},
   "outputs": [],
   "source": [
    "NAME = \"SIDDHARTH YASHASWEE\"\n",
    "COLLABORATORS = \"\""
   ]
  },
  {
   "cell_type": "markdown",
   "id": "55c97c26",
   "metadata": {},
   "source": [
    "---"
   ]
  },
  {
   "cell_type": "markdown",
   "id": "4495c409",
   "metadata": {
    "nbgrader": {
     "grade": false,
     "grade_id": "cell-0ececd7728c75384",
     "locked": true,
     "schema_version": 3,
     "solution": false,
     "task": false
    }
   },
   "source": [
    "# Distance Measures\n",
    "In this notebook we will implement the approximate computation of geodesic distances via the heat method. We will also compute the Chamfer distance between two point clouds."
   ]
  },
  {
   "cell_type": "code",
   "execution_count": 2,
   "id": "da0453c0",
   "metadata": {
    "nbgrader": {
     "grade": false,
     "grade_id": "cell-8bb5441f4c9cd42a",
     "locked": true,
     "schema_version": 3,
     "solution": false,
     "task": false
    }
   },
   "outputs": [],
   "source": [
    "from ipywidgets import interact, fixed\n",
    "import numpy as np\n",
    "import scipy as sp\n",
    "from scipy.sparse import csr_matrix, diags\n",
    "from scipy.sparse.linalg import spsolve, lsqr\n",
    "from scipy.spatial.distance import cdist\n",
    "import openmesh as om\n",
    "import k3d"
   ]
  },
  {
   "cell_type": "code",
   "execution_count": 3,
   "id": "23703362",
   "metadata": {
    "nbgrader": {
     "grade": false,
     "grade_id": "cell-4582ab398036dc5d",
     "locked": true,
     "schema_version": 3,
     "solution": false,
     "task": false
    }
   },
   "outputs": [],
   "source": [
    "mesh = om.read_trimesh(\"spot.obj\")\n",
    "bob_mesh = om.read_trimesh(\"bob.obj\")\n",
    "A = sp.sparse.load_npz(\"A.npz\")\n",
    "W = -sp.sparse.load_npz(\"W.npz\")"
   ]
  },
  {
   "cell_type": "markdown",
   "id": "ae62b3fb",
   "metadata": {
    "nbgrader": {
     "grade": false,
     "grade_id": "cell-362c36783ffd8409",
     "locked": true,
     "schema_version": 3,
     "solution": false,
     "task": false
    }
   },
   "source": [
    "## Heat Method\n",
    "For the heat method you will have to compute the heat distribution. Then you have to derive gradients for this distribution on the triangle mesh and then solve a Poisson equation to compute a geodesic distance field.\n",
    "\n",
    "In order to compute the heat distribution with `compute_heat_distribution` you will need the (uninverted) mass matrix `A` and the weak Laplacian Beltrami Operator `W` for the spot mesh (stored in `mesh`). We have precomputed and loaded those matrices for you above. Furthermore, we require a time parameter `t` (in our case `t=1`) and an intial heat distribution for each vertex of the mesh. Here we apply heat to a single point (the vertex with id 1570) for which we want to compute the geodesic distance field. Since `A` and `W` are sparse matrices use `spsolve` to solve the linear equation system. The result should be a numpy array with one axis with scalar values for every vertex of the mesh. The heat distribution should then look like [this](./heat_distribution.html) (both the intial heat distribution and the one at time step `t` are shown).\n",
    "\n",
    "Next, we need to compute the gradient of the heat distribution on our mesh with `compute_gradient_on_trimesh`. Here `mesh` is the spot mesh and `u` the heat distribution we computed above (per vertex). The result should be a 3D gradient vector per triangle (again as a numpy array). You can use the `compute_triangle_area` and `compute_normal` helper functions per triangle (`a`, `b`, and `c` are the 3 3D points of the triangle). In order to iterate over the vertices of each face you can either use `mesh.fv(fh)` for a particular face handle `fh` or get all face vertex indices with `mesh.fv_indices()` as a numpy array. Afterwards you will have to transform the gradient to a vector field that matches the gradient of a distance field with `compute_gradient_of_distance_field`. This function takes as input a numpy array with 3D gradients per triangle face and returns a vector field as a numpy array with 3D vectors per face. If you implemented everything correctly the resulting vector field should look like [this](./gradient_field.html).\n",
    "\n",
    "Now that we have the gradient field for our distance field, we need to recover the distance field in question. To this end we have to compute the divergence of that gradient field in order to setup and solve a Poisson equation. Implement the computation of the divergence with `compute_divergence_on_trimesh` that takes as as input the spot mesh `mesh` and the vector field computed above with `compute_gradient_of_distance_field` as `vec`. It returns a numpy array with a scalar per vertex. You can use `mesh.vertices()` to iterate over all vertices of the mesh. Use `mesh.voh(vh)` to iterate over all outgoing halfedges for a vertex handle `vh`. You can get the corresponding (unique) face handle for a halfedge handle `hh` with `mesh.face_handle(hh)`. To jump to the next halfedge handle from a halfedge handle `hh` in a face use `mesh.next_halfedge_handle(hh)`. The vertex handle that a halfedge `hh` points to can be looked up with `mesh.to_vertex_handle(hh)`. The cotanget for two vectors $v_1$ and $v_2$ can be computed as $\\frac{v_1^Tv_2}{||v_1 \\times v_2||}$. If you implemented everything correctly your divergence should look like [this](./divergence.html). You can now setup and solve the Poisson equation in `compute_distance_field` that takes as input the weak Laplace Beltrami Operator and the divergence field. It returns the distance field (a numpy array with scalars per vertex). Use `lsqr` to solve the Poisson equation since it is over-determined. Your solution should look like [this](./distance_field.html).\n",
    "Note that the distance field can have negative values, as the solution of the Poisson equation is invariant to a constant offset."
   ]
  },
  {
   "cell_type": "code",
   "execution_count": 4,
   "id": "9b2679b0",
   "metadata": {
    "nbgrader": {
     "grade": false,
     "grade_id": "cell-0bdcb31cded6ad87",
     "locked": false,
     "schema_version": 3,
     "solution": true,
     "task": false
    }
   },
   "outputs": [],
   "source": [
    "def compute_triangle_area(a, b, c):\n",
    "    return np.linalg.norm(np.cross(b-a, c-a))/2\n",
    "\n",
    "def compute_normal(a, b, c):\n",
    "    n = np.cross(b-a, c-a)\n",
    "    n /= np.linalg.norm(n)\n",
    "    return n\n",
    "\n",
    "def compute_gradient_on_trimesh(mesh, u):\n",
    "    ### YOUR CODE HERE\n",
    "    points = mesh.points()\n",
    "    faces = mesh.fv_indices()\n",
    "    gradients = []\n",
    "    \n",
    "    for face in faces:\n",
    "        area = compute_triangle_area(points[face[0]], points[face[1]], points[face[2]])\n",
    "        normal = compute_normal(points[face[0]],points[face[1]], points[face[2]])\n",
    "        \n",
    "        e0 = points[face[2]]-points[face[1]]\n",
    "        e1 = points[face[0]]-points[face[2]]\n",
    "        e2 = points[face[1]]-points[face[0]]\n",
    "        \n",
    "        gradient = u[face[0]]*np.cross(normal, e0) + u[face[1]]*np.cross(normal, e1) + u[face[2]]*np.cross(normal, e2)\n",
    "        gradient /= 2*area\n",
    "        \n",
    "        gradients.append(gradient)\n",
    "    \n",
    "    ngrads=np.stack(gradients, axis=0)\n",
    "    return ngrads\n",
    "\n",
    "def compute_divergence_on_trimesh(mesh, vec):\n",
    "    ### YOUR CODE HERE\n",
    "\n",
    "    #store scalar per vertex\n",
    "    divergence = []\n",
    "    \n",
    "    #iterate over all vertices\n",
    "    for vh in mesh.vertices():\n",
    "        \n",
    "        #position of the vertex\n",
    "        ipos = mesh.point(vh)\n",
    "        \n",
    "        vertex_area = 0\n",
    "        vertex_div = 0\n",
    "        \n",
    "        #iterate over all outgoing halfedges\n",
    "        for oh in mesh.voh(vh):\n",
    "            \n",
    "            #face handle for halfedge\n",
    "            fh = mesh.face_handle(oh)\n",
    "            Xj = vec[fh.idx()]\n",
    "            \n",
    "            jpos1 = mesh.point(mesh.to_vertex_handle(oh))\n",
    "            jpos2 = mesh.point(mesh.to_vertex_handle(mesh.next_halfedge_handle(oh)))\n",
    "            \n",
    "            e1X = np.dot((jpos1 - ipos),Xj)\n",
    "            e2X = np.dot((jpos2 - ipos),Xj)\n",
    "            \n",
    "            #cot1\n",
    "            cot1 = np.dot(ipos - jpos2, jpos1 - jpos2)/np.linalg.norm(np.cross(ipos - jpos2, jpos1 - jpos2))\n",
    "            \n",
    "            #cot2\n",
    "            cot2 = np.dot(ipos - jpos1, jpos2 - jpos1)/np.linalg.norm(np.cross(ipos - jpos1, jpos2 - jpos1))\n",
    "            \n",
    "            vertex_div += (cot1*e1X + cot2*e2X)\n",
    "          \n",
    "            vertex_area += compute_triangle_area(ipos,jpos1,jpos2)\n",
    "        \n",
    "        #do not dide by area, cancelled out in poissons equation\n",
    "        vertex_div = vertex_div/2\n",
    "        \n",
    "        divergence.append(vertex_div)\n",
    "    #print(divergence[0])\n",
    "    #print(divergence[1000])\n",
    "\n",
    "    return np.array(divergence)\n",
    "    \n",
    "def compute_heat_distribution(A, W, t, init_heat):\n",
    "    ### YOUR CODE HERE   \n",
    "    return spsolve(A-(t*W), A*init_heat)\n",
    "\n",
    "def compute_gradient_of_distance_field(grads):\n",
    "    ### YOUR CODE HERE\n",
    "    vec_sums = np.sum(grads**2, axis=1)\n",
    "    vec_sums = vec_sums[:,None]\n",
    "    ngrads = (-1)*grads / np.sqrt(vec_sums)\n",
    "    return ngrads\n",
    "\n",
    "def compute_distance_field(W, div):\n",
    "    ### YOUR CODE HERE\n",
    "    return lsqr(W, div)[0]"
   ]
  },
  {
   "cell_type": "code",
   "execution_count": 5,
   "id": "185b2f98",
   "metadata": {
    "nbgrader": {
     "grade": true,
     "grade_id": "cell-f8709265f219aab5",
     "locked": true,
     "points": 1,
     "schema_version": 3,
     "solution": false,
     "task": false
    }
   },
   "outputs": [],
   "source": [
    "init_u = np.zeros(mesh.n_vertices())\n",
    "init_u[1570] = 1.\n",
    "t = 1\n",
    "u_t = compute_heat_distribution(A, W, t, init_u)\n",
    "np.testing.assert_approx_equal(u_t[0], 0.00012, significant=2)\n",
    "np.testing.assert_approx_equal(u_t[1000], 0.00017, significant=2)\n",
    "np.testing.assert_approx_equal(u_t[-1], 0.000093, significant=2)"
   ]
  },
  {
   "cell_type": "code",
   "execution_count": 6,
   "id": "e5c8dd36",
   "metadata": {
    "nbgrader": {
     "grade": false,
     "grade_id": "cell-8fb828dc93519fe9",
     "locked": true,
     "schema_version": 3,
     "solution": false,
     "task": false
    }
   },
   "outputs": [
    {
     "name": "stderr",
     "output_type": "stream",
     "text": [
      "C:\\Users\\lenovo1\\.conda\\envs\\shapeanalysis\\lib\\site-packages\\traittypes\\traittypes.py:97: UserWarning: Given trait value dtype \"float64\" does not match required type \"float32\". A coerced copy has been created.\n",
      "  warnings.warn(\n",
      "C:\\Users\\lenovo1\\.conda\\envs\\shapeanalysis\\lib\\site-packages\\traittypes\\traittypes.py:97: UserWarning: Given trait value dtype \"int32\" does not match required type \"uint32\". A coerced copy has been created.\n",
      "  warnings.warn(\n"
     ]
    },
    {
     "data": {
      "application/vnd.jupyter.widget-view+json": {
       "model_id": "7a5ebe34e6174f07a4f5902d3cf7d3ba",
       "version_major": 2,
       "version_minor": 0
      },
      "text/plain": [
       "Plot(antialias=3, axes=['x', 'y', 'z'], axes_helper=1.0, axes_helper_colors=[16711680, 65280, 255], background…"
      ]
     },
     "execution_count": 6,
     "metadata": {},
     "output_type": "execute_result"
    }
   ],
   "source": [
    "plot = k3d.plot()\n",
    "plot += k3d.mesh(mesh.points(), mesh.fv_indices(), attribute=init_u, color_map=k3d.matplotlib_color_maps.viridis)\n",
    "plot += k3d.mesh(mesh.points() + np.array([-1.,0,0]), mesh.fv_indices(), attribute=u_t, color_map=k3d.matplotlib_color_maps.viridis)\n",
    "plot"
   ]
  },
  {
   "cell_type": "code",
   "execution_count": 7,
   "id": "6ca2bacc",
   "metadata": {
    "nbgrader": {
     "grade": true,
     "grade_id": "cell-6f1953985c72acec",
     "locked": true,
     "points": 1,
     "schema_version": 3,
     "solution": false,
     "task": false
    }
   },
   "outputs": [],
   "source": [
    "u_t_grad = compute_gradient_on_trimesh(mesh, u_t)\n",
    "X = compute_gradient_of_distance_field(u_t_grad)\n",
    "np.testing.assert_approx_equal(X[0,0], -0.59, significant=2)\n",
    "np.testing.assert_approx_equal(X[0,1], -0.38, significant=2)\n",
    "np.testing.assert_approx_equal(X[0,2], 0.71, significant=2)\n",
    "np.testing.assert_approx_equal(X[-1,0], 0.06, significant=2)\n",
    "np.testing.assert_approx_equal(X[-1,1], -0.89, significant=2)\n",
    "np.testing.assert_approx_equal(X[-1,2], -0.46, significant=2)\n",
    "np.testing.assert_approx_equal(X[1000,0], -0.96, significant=2)\n",
    "np.testing.assert_approx_equal(X[1000,1], -0.23, significant=2)\n",
    "np.testing.assert_approx_equal(X[1000,2], -0.19, significant=2)"
   ]
  },
  {
   "cell_type": "code",
   "execution_count": 8,
   "id": "f5a91839",
   "metadata": {
    "nbgrader": {
     "grade": false,
     "grade_id": "cell-10d71bc1f7e57db0",
     "locked": true,
     "schema_version": 3,
     "solution": false,
     "task": false
    },
    "scrolled": true
   },
   "outputs": [
    {
     "data": {
      "application/vnd.jupyter.widget-view+json": {
       "model_id": "15c9859c7cc741628c6cac0c4612ddb0",
       "version_major": 2,
       "version_minor": 0
      },
      "text/plain": [
       "Plot(antialias=3, axes=['x', 'y', 'z'], axes_helper=1.0, axes_helper_colors=[16711680, 65280, 255], background…"
      ]
     },
     "execution_count": 8,
     "metadata": {},
     "output_type": "execute_result"
    }
   ],
   "source": [
    "plot = k3d.plot()\n",
    "plot += k3d.mesh(mesh.points(), mesh.fv_indices(), attribute=u_t, color_map=k3d.matplotlib_color_maps.viridis)\n",
    "plot += k3d.vectors(mesh.points()[mesh.fv_indices()].mean(1), X*0.05, use_head=False)\n",
    "plot"
   ]
  },
  {
   "cell_type": "code",
   "execution_count": 9,
   "id": "afd42ed6",
   "metadata": {
    "nbgrader": {
     "grade": true,
     "grade_id": "cell-f904cbb4f55213b1",
     "locked": true,
     "points": 1,
     "schema_version": 3,
     "solution": false,
     "task": false
    },
    "scrolled": true
   },
   "outputs": [],
   "source": [
    "div = compute_divergence_on_trimesh(mesh, X)\n",
    "phi = compute_distance_field(W, div)\n",
    "phi -= phi.min() # solution is not unique up to constant factor. Therefore set minimum to zero\n",
    "np.testing.assert_approx_equal(div[0], 0.0096, significant=2)\n",
    "np.testing.assert_approx_equal(div[1000], 0.0056, significant=2)\n",
    "np.testing.assert_approx_equal(phi[0], 1.41, significant=2)\n",
    "np.testing.assert_approx_equal(phi[1000], 1.09, significant=2)"
   ]
  },
  {
   "cell_type": "code",
   "execution_count": 10,
   "id": "a3335ca1",
   "metadata": {
    "nbgrader": {
     "grade": false,
     "grade_id": "cell-361d2c9039afd1f8",
     "locked": true,
     "schema_version": 3,
     "solution": false,
     "task": false
    }
   },
   "outputs": [
    {
     "data": {
      "application/vnd.jupyter.widget-view+json": {
       "model_id": "fbd8e94972b4484598f7ef4b6a511c7e",
       "version_major": 2,
       "version_minor": 0
      },
      "text/plain": [
       "Output()"
      ]
     },
     "metadata": {},
     "output_type": "display_data"
    }
   ],
   "source": [
    "k3d.mesh(mesh.points(), mesh.fv_indices(), attribute=div, color_map=k3d.matplotlib_color_maps.viridis)"
   ]
  },
  {
   "cell_type": "code",
   "execution_count": 11,
   "id": "838b2bc4",
   "metadata": {
    "nbgrader": {
     "grade": false,
     "grade_id": "cell-b9c65e9f3936334e",
     "locked": true,
     "schema_version": 3,
     "solution": false,
     "task": false
    }
   },
   "outputs": [
    {
     "data": {
      "application/vnd.jupyter.widget-view+json": {
       "model_id": "8ebe4c6c8f804168ad8762d861d00399",
       "version_major": 2,
       "version_minor": 0
      },
      "text/plain": [
       "Output()"
      ]
     },
     "metadata": {},
     "output_type": "display_data"
    }
   ],
   "source": [
    "k3d.mesh(mesh.points(), mesh.fv_indices(), attribute=phi, color_map=k3d.matplotlib_color_maps.coolwarm)"
   ]
  },
  {
   "cell_type": "code",
   "execution_count": 12,
   "id": "9895c414",
   "metadata": {
    "nbgrader": {
     "grade": false,
     "grade_id": "cell-b1b243f46b2cda03",
     "locked": true,
     "schema_version": 3,
     "solution": false,
     "task": false
    }
   },
   "outputs": [
    {
     "name": "stderr",
     "output_type": "stream",
     "text": [
      "C:\\Users\\lenovo1\\.conda\\envs\\shapeanalysis\\lib\\site-packages\\traitlets\\traitlets.py:711: SparseEfficiencyWarning: Comparing sparse matrices using == is inefficient, try using != instead.\n",
      "  silent = bool(old_value == new_value)\n",
      "C:\\Users\\lenovo1\\.conda\\envs\\shapeanalysis\\lib\\site-packages\\traitlets\\traitlets.py:1738: SparseEfficiencyWarning: Comparing sparse matrices using == is inefficient, try using != instead.\n",
      "  getattr(cls, name).set(self, value)\n"
     ]
    },
    {
     "data": {
      "application/vnd.jupyter.widget-view+json": {
       "model_id": "2d24fceb6cb346a9a0e33d9d7ea06981",
       "version_major": 2,
       "version_minor": 0
      },
      "text/plain": [
       "interactive(children=(Dropdown(description='vertex', options=(0, 1, 2, 3, 4, 5, 6, 7, 8, 9, 10, 11, 12, 13, 14…"
      ]
     },
     "metadata": {},
     "output_type": "display_data"
    },
    {
     "data": {
      "text/plain": [
       "<function __main__.plot_geodesics_heat(A, W, vertex)>"
      ]
     },
     "execution_count": 12,
     "metadata": {},
     "output_type": "execute_result"
    }
   ],
   "source": [
    "def plot_geodesics_heat(A,W,vertex):\n",
    "    init_u = np.zeros(mesh.n_vertices())\n",
    "    init_u[vertex] = 1.\n",
    "    plot = k3d.plot()\n",
    "    u_t = compute_heat_distribution(A, W, 1, init_u)\n",
    "    u_t_grad = compute_gradient_on_trimesh(mesh, u_t)\n",
    "    X = compute_gradient_of_distance_field(u_t_grad)\n",
    "    div = compute_divergence_on_trimesh(mesh, X)\n",
    "    phi = compute_distance_field(W, div)\n",
    "    plot += k3d.mesh(mesh.points(), mesh.fv_indices(), attribute=phi, color_map=k3d.matplotlib_color_maps.coolwarm)\n",
    "    plot.display()\n",
    "\n",
    "interact(plot_geodesics_heat,\n",
    "         A = fixed(A),\n",
    "         W = fixed(W),\n",
    "         vertex = range(mesh.n_vertices()),\n",
    "         continous_update=False)"
   ]
  },
  {
   "cell_type": "markdown",
   "id": "e626a236",
   "metadata": {
    "nbgrader": {
     "grade": false,
     "grade_id": "cell-bb779079bb90d5cb",
     "locked": true,
     "schema_version": 3,
     "solution": false,
     "task": false
    }
   },
   "source": [
    "## Chamfer Distance\n",
    "Compute the Chamfer distance with `chamfer_distance` for the two point clouds below. You can use `cdist` to compute the pairwise (Euclidean) distance matrix between the two point clouds."
   ]
  },
  {
   "cell_type": "code",
   "execution_count": 13,
   "id": "0e83098a",
   "metadata": {
    "nbgrader": {
     "grade": false,
     "grade_id": "cell-cc1dc441a9169b3b",
     "locked": true,
     "schema_version": 3,
     "solution": false,
     "task": false
    }
   },
   "outputs": [
    {
     "data": {
      "application/vnd.jupyter.widget-view+json": {
       "model_id": "f09b32aec49d471e9b45215e0f9c289e",
       "version_major": 2,
       "version_minor": 0
      },
      "text/plain": [
       "Plot(antialias=3, axes=['x', 'y', 'z'], axes_helper=1.0, axes_helper_colors=[16711680, 65280, 255], background…"
      ]
     },
     "execution_count": 13,
     "metadata": {},
     "output_type": "execute_result"
    }
   ],
   "source": [
    "plot = k3d.plot()\n",
    "plot += k3d.points(mesh.points(), point_size=0.02, color=0x0000ff)\n",
    "plot += k3d.points(bob_mesh.points(), point_size=0.02, color=0xff0000)\n",
    "plot"
   ]
  },
  {
   "cell_type": "code",
   "execution_count": 14,
   "id": "d57d3568",
   "metadata": {
    "nbgrader": {
     "grade": false,
     "grade_id": "cell-65959c4431b7ce3c",
     "locked": false,
     "schema_version": 3,
     "solution": true,
     "task": false
    }
   },
   "outputs": [],
   "source": [
    "def chamfer_distance(pts_A, pts_B):\n",
    "    ### YOUR CODE HERE\n",
    "    n_a = pts_A.shape[0]\n",
    "    m_b = pts_B.shape[0]\n",
    "    \n",
    "    matrix = cdist(pts_A, pts_B)\n",
    "    \n",
    "    dista=0.0\n",
    "    distb=0.0\n",
    "    \n",
    "    for x in range(n_a):\n",
    "        dxY = np.min(matrix[x,:])\n",
    "        dista += dxY\n",
    "    \n",
    "    for y in range(m_b):\n",
    "        dyX = np.min(matrix[:,y])\n",
    "        distb += dyX\n",
    "\n",
    "    return dista/n_a+distb/m_b\n",
    "    "
   ]
  },
  {
   "cell_type": "code",
   "execution_count": 15,
   "id": "93b3c3a8",
   "metadata": {
    "nbgrader": {
     "grade": true,
     "grade_id": "cell-670e5e2c5f459188",
     "locked": true,
     "points": 1,
     "schema_version": 3,
     "solution": false,
     "task": false
    }
   },
   "outputs": [],
   "source": [
    "pts_A = mesh.points()\n",
    "pts_B = bob_mesh.points()\n",
    "d = chamfer_distance(pts_A, pts_B)\n",
    "np.testing.assert_approx_equal(d, 0.51, significant=2)"
   ]
  }
 ],
 "metadata": {
  "celltoolbar": "Create Assignment",
  "kernelspec": {
   "display_name": "Python 3 (ipykernel)",
   "language": "python",
   "name": "python3"
  },
  "language_info": {
   "codemirror_mode": {
    "name": "ipython",
    "version": 3
   },
   "file_extension": ".py",
   "mimetype": "text/x-python",
   "name": "python",
   "nbconvert_exporter": "python",
   "pygments_lexer": "ipython3",
   "version": "3.8.16"
  }
 },
 "nbformat": 4,
 "nbformat_minor": 5
}
