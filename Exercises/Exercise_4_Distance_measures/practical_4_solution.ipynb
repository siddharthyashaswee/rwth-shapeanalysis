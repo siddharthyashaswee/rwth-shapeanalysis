{
 "cells": [
  {
   "cell_type": "markdown",
   "id": "4495c409",
   "metadata": {
    "nbgrader": {
     "grade": false,
     "grade_id": "cell-0ececd7728c75384",
     "locked": true,
     "schema_version": 3,
     "solution": false,
     "task": false
    }
   },
   "source": [
    "# Distance Measures\n",
    "In this notebook we will implement the approximate computation of geodesic distances via the heat method. We will also compute the Chamfer distance between two point clouds."
   ]
  },
  {
   "cell_type": "code",
   "execution_count": null,
   "id": "da0453c0",
   "metadata": {
    "nbgrader": {
     "grade": false,
     "grade_id": "cell-8bb5441f4c9cd42a",
     "locked": true,
     "schema_version": 3,
     "solution": false,
     "task": false
    }
   },
   "outputs": [],
   "source": [
    "from ipywidgets import interact, fixed\n",
    "import numpy as np\n",
    "import scipy as sp\n",
    "from scipy.sparse import csr_matrix, diags\n",
    "from scipy.sparse.linalg import spsolve, lsqr\n",
    "from scipy.spatial.distance import cdist\n",
    "import openmesh as om\n",
    "import k3d"
   ]
  },
  {
   "cell_type": "code",
   "execution_count": null,
   "id": "23703362",
   "metadata": {
    "nbgrader": {
     "grade": false,
     "grade_id": "cell-4582ab398036dc5d",
     "locked": true,
     "schema_version": 3,
     "solution": false,
     "task": false
    }
   },
   "outputs": [],
   "source": [
    "mesh = om.read_trimesh(\"spot.obj\")\n",
    "bob_mesh = om.read_trimesh(\"bob.obj\")\n",
    "A = sp.sparse.load_npz(\"A.npz\")\n",
    "W = -sp.sparse.load_npz(\"W.npz\")"
   ]
  },
  {
   "cell_type": "markdown",
   "id": "ae62b3fb",
   "metadata": {
    "nbgrader": {
     "grade": false,
     "grade_id": "cell-362c36783ffd8409",
     "locked": true,
     "schema_version": 3,
     "solution": false,
     "task": false
    }
   },
   "source": [
    "## Heat Method\n",
    "For the heat method you will have to compute the heat distribution. Then you have to derive gradients for this distribution on the triangle mesh and then solve a Poisson equation to compute a geodesic distance field.\n",
    "\n",
    "In order to compute the heat distribution with `compute_heat_distribution` you will need the (uninverted) mass matrix `A` and the weak Laplacian Beltrami Operator `W` for the spot mesh (stored in `mesh`). We have precomputed and loaded those matrices for you above. Furthermore, we require a time parameter `t` (in our case `t=1`) and an intial heat distribution for each vertex of the mesh. Here we apply heat to a single point (the vertex with id 1570) for which we want to compute the geodesic distance field. Since `A` and `W` are sparse matrices use `spsolve` to solve the linear equation system. The result should be a numpy array with one axis with scalar values for every vertex of the mesh. The heat distribution should then look like [this](./heat_distribution.html) (both the intial heat distribution and the one at time step `t` are shown).\n",
    "\n",
    "Next, we need to compute the gradient of the heat distribution on our mesh with `compute_gradient_on_trimesh`. Here `mesh` is the spot mesh and `u` the heat distribution we computed above (per vertex). The result should be a 3D gradient vector per triangle (again as a numpy array). You can use the `compute_triangle_area` and `compute_normal` helper functions per triangle (`a`, `b`, and `c` are the 3 3D points of the triangle). In order to iterate over the vertices of each face you can either use `mesh.fv(fh)` for a particular face handle `fh` or get all face vertex indices with `mesh.fv_indices()` as a numpy array. Afterwards you will have to transform the gradient to a vector field that matches the gradient of a distance field with `compute_gradient_of_distance_field`. This function takes as input a numpy array with 3D gradients per triangle face and returns a vector field as a numpy array with 3D vectors per face. If you implemented everything correctly the resulting vector field should look like [this](./gradient_field.html).\n",
    "\n",
    "Now that we have the gradient field for our distance field, we need to recover the distance field in question. To this end we have to compute the divergence of that gradient field in order to setup and solve a Poisson equation. Implement the computation of the divergence with `compute_divergence_on_trimesh` that takes as as input the spot mesh `mesh` and the vector field computed above with `compute_gradient_of_distance_field` as `vec`. It returns a numpy array with a scalar per vertex. You can use `mesh.vertices()` to iterate over all vertices of the mesh. Use `mesh.voh(vh)` to iterate over all outgoing halfedges for a vertex handle `vh`. You can get the corresponding (unique) face handle for a halfedge handle `hh` with `mesh.face_handle(hh)`. To jump to the next halfedge handle from a halfedge handle `hh` in a face use `mesh.next_halfedge_handle(hh)`. The vertex handle that a halfedge `hh` points to can be looked up with `mesh.to_vertex_handle(hh)`. The cotanget for two vectors $v_1$ and $v_2$ can be computed as $\\frac{v_1^Tv_2}{||v_1 \\times v_2||}$. If you implemented everything correctly your divergence should look like [this](./divergence.html). You can now setup and solve the Poisson equation in `compute_distance_field` that takes as input the weak Laplace Beltrami Operator and the divergence field. It returns the distance field (a numpy array with scalars per vertex). Use `lsqr` to solve the Poisson equation since it is over-determined. Your solution should look like [this](./distance_field.html).\n",
    "Note that the distance field can have negative values, as the solution of the Poisson equation is invariant to a constant offset."
   ]
  },
  {
   "cell_type": "code",
   "execution_count": null,
   "id": "9b2679b0",
   "metadata": {
    "nbgrader": {
     "grade": false,
     "grade_id": "cell-0bdcb31cded6ad87",
     "locked": false,
     "schema_version": 3,
     "solution": true,
     "task": false
    }
   },
   "outputs": [],
   "source": [
    "def compute_triangle_area(a, b, c):\n",
    "    return np.linalg.norm(np.cross(b-a, c-a))/2\n",
    "\n",
    "def compute_normal(a, b, c):\n",
    "    n = np.cross(b-a, c-a)\n",
    "    n /= np.linalg.norm(n)\n",
    "    return n\n",
    "\n",
    "def compute_gradient_on_trimesh(mesh, u):\n",
    "    ### BEGIN SOLUTION\n",
    "    fv_indices = mesh.fv_indices()\n",
    "    pts = mesh.points()\n",
    "    grads = np.zeros((fv_indices.shape[0], 3))\n",
    "    for i in range(fv_indices.shape[0]):\n",
    "        face = fv_indices[i]\n",
    "        face_pts = pts[face]\n",
    "        face_u = u[face]\n",
    "        n = compute_normal(face_pts[0], face_pts[1], face_pts[2])\n",
    "        A_f = compute_triangle_area(face_pts[0], face_pts[1], face_pts[2])\n",
    "        grad = np.zeros(3)\n",
    "        for j in range(3):\n",
    "            e_j = face_pts[(j+1)%3] - face_pts[j%3]\n",
    "            u_j = face_u[(j+2)%3]\n",
    "            grad += u_j * np.cross(n, e_j)\n",
    "        grad /= 2*A_f\n",
    "        grads[i] = grad\n",
    "    return grads\n",
    "    ### END SOLUTION\n",
    "\n",
    "def compute_divergence_on_trimesh(mesh, vec):\n",
    "    ### BEGIN SOLUTION\n",
    "    div = np.zeros(mesh.n_vertices())\n",
    "    pts = mesh.points()\n",
    "    for vh in mesh.vertices():\n",
    "        a = pts[vh.idx()]\n",
    "        for hh in mesh.voh(vh):\n",
    "            fh = mesh.face_handle(hh)\n",
    "            next_hh = mesh.next_halfedge_handle(hh)\n",
    "            b = pts[mesh.to_vertex_handle(hh).idx()]\n",
    "            c = pts[mesh.to_vertex_handle(next_hh).idx()]\n",
    "\n",
    "            e_1 = b - a\n",
    "            e_2 = c - a\n",
    "            v_1 = a - c\n",
    "            v_2 = b - c\n",
    "            cot_theta_1 = np.dot(v_1, v_2) / np.linalg.norm(np.cross(v_1, v_2))\n",
    "            v_1 = c - b\n",
    "            v_2 = a - b\n",
    "            cot_theta_2 = np.dot(v_1, v_2) / np.linalg.norm(np.cross(v_1, v_2))\n",
    "            div[vh.idx()] += cot_theta_1*np.dot(e_1, vec[fh.idx()]) + cot_theta_2*np.dot(e_2, vec[fh.idx()])\n",
    "        div[vh.idx()] *= 0.5\n",
    "    return div\n",
    "    ### END SOLUTION\n",
    "    \n",
    "def compute_heat_distribution(A, W, t, init_heat):\n",
    "    ### BEGIN SOLUTION\n",
    "    u_t = spsolve(A-t*W, A*init_heat)\n",
    "    # right side does not need to be multiplicated with A as it is nonzero at single point anyways\n",
    "    return u_t\n",
    "    ### END SOLUTION\n",
    "\n",
    "def compute_gradient_of_distance_field(grads):\n",
    "    ### BEGIN SOLUTION\n",
    "    return -grads / np.linalg.norm(grads, axis=-1, keepdims=True)\n",
    "    ### END SOLUTION\n",
    "\n",
    "def compute_distance_field(W, div):\n",
    "    ### BEGIN SOLUTION\n",
    "    return lsqr(W, div)[0]\n",
    "    ### END SOLUTION"
   ]
  },
  {
   "cell_type": "code",
   "execution_count": null,
   "id": "185b2f98",
   "metadata": {
    "nbgrader": {
     "grade": true,
     "grade_id": "cell-f8709265f219aab5",
     "locked": true,
     "points": 1,
     "schema_version": 3,
     "solution": false,
     "task": false
    }
   },
   "outputs": [],
   "source": [
    "init_u = np.zeros(mesh.n_vertices())\n",
    "init_u[1570] = 1.\n",
    "t = 1\n",
    "u_t = compute_heat_distribution(A, W, t, init_u)\n",
    "np.testing.assert_approx_equal(u_t[0], 0.00012, significant=2)\n",
    "np.testing.assert_approx_equal(u_t[1000], 0.00017, significant=2)\n",
    "np.testing.assert_approx_equal(u_t[-1], 0.000093, significant=2)"
   ]
  },
  {
   "cell_type": "code",
   "execution_count": null,
   "id": "e5c8dd36",
   "metadata": {
    "nbgrader": {
     "grade": false,
     "grade_id": "cell-8fb828dc93519fe9",
     "locked": true,
     "schema_version": 3,
     "solution": false,
     "task": false
    },
    "scrolled": false
   },
   "outputs": [],
   "source": [
    "plot = k3d.plot()\n",
    "plot += k3d.mesh(mesh.points(), mesh.fv_indices(), attribute=init_u, color_map=k3d.matplotlib_color_maps.viridis)\n",
    "plot += k3d.mesh(mesh.points() + np.array([-1.,0,0]), mesh.fv_indices(), attribute=u_t, color_map=k3d.matplotlib_color_maps.viridis)\n",
    "plot"
   ]
  },
  {
   "cell_type": "code",
   "execution_count": null,
   "id": "6ca2bacc",
   "metadata": {
    "nbgrader": {
     "grade": true,
     "grade_id": "cell-6f1953985c72acec",
     "locked": true,
     "points": 1,
     "schema_version": 3,
     "solution": false,
     "task": false
    }
   },
   "outputs": [],
   "source": [
    "u_t_grad = compute_gradient_on_trimesh(mesh, u_t)\n",
    "X = compute_gradient_of_distance_field(u_t_grad)\n",
    "np.testing.assert_approx_equal(X[0,0], -0.59, significant=2)\n",
    "np.testing.assert_approx_equal(X[0,1], -0.38, significant=2)\n",
    "np.testing.assert_approx_equal(X[0,2], 0.71, significant=2)\n",
    "np.testing.assert_approx_equal(X[-1,0], 0.06, significant=2)\n",
    "np.testing.assert_approx_equal(X[-1,1], -0.89, significant=2)\n",
    "np.testing.assert_approx_equal(X[-1,2], -0.46, significant=2)\n",
    "np.testing.assert_approx_equal(X[1000,0], -0.96, significant=2)\n",
    "np.testing.assert_approx_equal(X[1000,1], -0.23, significant=2)\n",
    "np.testing.assert_approx_equal(X[1000,2], -0.19, significant=2)"
   ]
  },
  {
   "cell_type": "code",
   "execution_count": null,
   "id": "f5a91839",
   "metadata": {
    "nbgrader": {
     "grade": false,
     "grade_id": "cell-10d71bc1f7e57db0",
     "locked": true,
     "schema_version": 3,
     "solution": false,
     "task": false
    }
   },
   "outputs": [],
   "source": [
    "plot = k3d.plot()\n",
    "plot += k3d.mesh(mesh.points(), mesh.fv_indices(), attribute=u_t, color_map=k3d.matplotlib_color_maps.viridis)\n",
    "plot += k3d.vectors(mesh.points()[mesh.fv_indices()].mean(1), X*0.05, use_head=False)\n",
    "plot"
   ]
  },
  {
   "cell_type": "code",
   "execution_count": null,
   "id": "afd42ed6",
   "metadata": {
    "nbgrader": {
     "grade": true,
     "grade_id": "cell-f904cbb4f55213b1",
     "locked": true,
     "points": 1,
     "schema_version": 3,
     "solution": false,
     "task": false
    }
   },
   "outputs": [],
   "source": [
    "div = compute_divergence_on_trimesh(mesh, X)\n",
    "phi = compute_distance_field(W, div)\n",
    "phi -= phi.min() # solution is not unique up to constant factor. Therefore set minimum to zero\n",
    "np.testing.assert_approx_equal(div[0], 0.0096, significant=2)\n",
    "np.testing.assert_approx_equal(div[1000], 0.0056, significant=2)\n",
    "np.testing.assert_approx_equal(phi[0], 1.41, significant=2)\n",
    "np.testing.assert_approx_equal(phi[1000], 1.09, significant=2)"
   ]
  },
  {
   "cell_type": "code",
   "execution_count": null,
   "id": "a3335ca1",
   "metadata": {
    "nbgrader": {
     "grade": false,
     "grade_id": "cell-361d2c9039afd1f8",
     "locked": true,
     "schema_version": 3,
     "solution": false,
     "task": false
    }
   },
   "outputs": [],
   "source": [
    "k3d.mesh(mesh.points(), mesh.fv_indices(), attribute=div, color_map=k3d.matplotlib_color_maps.viridis)"
   ]
  },
  {
   "cell_type": "code",
   "execution_count": null,
   "id": "838b2bc4",
   "metadata": {
    "nbgrader": {
     "grade": false,
     "grade_id": "cell-b9c65e9f3936334e",
     "locked": true,
     "schema_version": 3,
     "solution": false,
     "task": false
    }
   },
   "outputs": [],
   "source": [
    "k3d.mesh(mesh.points(), mesh.fv_indices(), attribute=phi, color_map=k3d.matplotlib_color_maps.coolwarm)"
   ]
  },
  {
   "cell_type": "code",
   "execution_count": null,
   "id": "9895c414",
   "metadata": {
    "nbgrader": {
     "grade": false,
     "grade_id": "cell-b1b243f46b2cda03",
     "locked": true,
     "schema_version": 3,
     "solution": false,
     "task": false
    }
   },
   "outputs": [],
   "source": [
    "def plot_geodesics_heat(A,W,vertex):\n",
    "    init_u = np.zeros(mesh.n_vertices())\n",
    "    init_u[vertex] = 1.\n",
    "    plot = k3d.plot()\n",
    "    u_t = compute_heat_distribution(A, W, 1, init_u)\n",
    "    u_t_grad = compute_gradient_on_trimesh(mesh, u_t)\n",
    "    X = compute_gradient_of_distance_field(u_t_grad)\n",
    "    div = compute_divergence_on_trimesh(mesh, X)\n",
    "    phi = compute_distance_field(W, div)\n",
    "    plot += k3d.mesh(mesh.points(), mesh.fv_indices(), attribute=phi, color_map=k3d.matplotlib_color_maps.coolwarm)\n",
    "    plot.display()\n",
    "\n",
    "interact(plot_geodesics_heat,\n",
    "         A = fixed(A),\n",
    "         W = fixed(W),\n",
    "         vertex = range(mesh.n_vertices()),\n",
    "         continous_update=False)"
   ]
  },
  {
   "cell_type": "markdown",
   "id": "e626a236",
   "metadata": {
    "nbgrader": {
     "grade": false,
     "grade_id": "cell-bb779079bb90d5cb",
     "locked": true,
     "schema_version": 3,
     "solution": false,
     "task": false
    }
   },
   "source": [
    "## Chamfer Distance\n",
    "Compute the Chamfer distance with `chamfer_distance` for the two point clouds below. You can use `cdist` to compute the pairwise (Euclidean) distance matrix between the two point clouds."
   ]
  },
  {
   "cell_type": "code",
   "execution_count": null,
   "id": "0e83098a",
   "metadata": {
    "nbgrader": {
     "grade": false,
     "grade_id": "cell-cc1dc441a9169b3b",
     "locked": true,
     "schema_version": 3,
     "solution": false,
     "task": false
    }
   },
   "outputs": [],
   "source": [
    "plot = k3d.plot()\n",
    "plot += k3d.points(mesh.points(), point_size=0.02, color=0x0000ff)\n",
    "plot += k3d.points(bob_mesh.points(), point_size=0.02, color=0xff0000)\n",
    "plot"
   ]
  },
  {
   "cell_type": "code",
   "execution_count": null,
   "id": "d57d3568",
   "metadata": {
    "nbgrader": {
     "grade": false,
     "grade_id": "cell-65959c4431b7ce3c",
     "locked": false,
     "schema_version": 3,
     "solution": true,
     "task": false
    }
   },
   "outputs": [],
   "source": [
    "def chamfer_distance(pts_A, pts_B):\n",
    "    ### BEGIN SOLUTION\n",
    "    dists = cdist(pts_A, pts_B)\n",
    "    return dists.min(1).mean() + dists.min(0).mean()\n",
    "    ### END SOLUTION"
   ]
  },
  {
   "cell_type": "code",
   "execution_count": null,
   "id": "93b3c3a8",
   "metadata": {
    "nbgrader": {
     "grade": true,
     "grade_id": "cell-670e5e2c5f459188",
     "locked": true,
     "points": 1,
     "schema_version": 3,
     "solution": false,
     "task": false
    }
   },
   "outputs": [],
   "source": [
    "pts_A = mesh.points()\n",
    "pts_B = bob_mesh.points()\n",
    "d = chamfer_distance(pts_A, pts_B)\n",
    "np.testing.assert_approx_equal(d, 0.51, significant=2)"
   ]
  }
 ],
 "metadata": {
  "celltoolbar": "Create Assignment",
  "kernelspec": {
   "display_name": "Python 3 (ipykernel)",
   "language": "python",
   "name": "python3"
  },
  "language_info": {
   "codemirror_mode": {
    "name": "ipython",
    "version": 3
   },
   "file_extension": ".py",
   "mimetype": "text/x-python",
   "name": "python",
   "nbconvert_exporter": "python",
   "pygments_lexer": "ipython3",
   "version": "3.9.16"
  }
 },
 "nbformat": 4,
 "nbformat_minor": 5
}
