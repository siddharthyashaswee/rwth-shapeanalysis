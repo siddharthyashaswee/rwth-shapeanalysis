{
 "cells": [
  {
   "cell_type": "markdown",
   "metadata": {},
   "source": [
    "Before you turn this problem in, make sure everything runs as expected. First, **restart the kernel** (in the menubar, select Kernel$\\rightarrow$Restart) and then **run all cells** (in the menubar, select Cell$\\rightarrow$Run All).\n",
    "\n",
    "Make sure you fill in any place that says `YOUR CODE HERE` or \"YOUR ANSWER HERE\", as well as your name and collaborators below:"
   ]
  },
  {
   "cell_type": "code",
   "execution_count": 2,
   "metadata": {},
   "outputs": [],
   "source": [
    "NAME = \"SIDDHARTH YASHASWEE\"\n",
    "COLLABORATORS = \"\""
   ]
  },
  {
   "cell_type": "markdown",
   "metadata": {},
   "source": [
    "---"
   ]
  },
  {
   "cell_type": "markdown",
   "metadata": {
    "nbgrader": {
     "grade": false,
     "grade_id": "cell-04429c6213cf7e2d",
     "locked": true,
     "schema_version": 3,
     "solution": false,
     "task": false
    }
   },
   "source": [
    "# Shape Descriptors\n",
    "In this notebook we will implement the Laplace Beltrami operator and use it to compute the mean curvature and normals as well as the heat kernel signature for an example mesh."
   ]
  },
  {
   "cell_type": "code",
   "execution_count": 3,
   "metadata": {
    "nbgrader": {
     "grade": false,
     "grade_id": "cell-c0df808dee64e4a4",
     "locked": true,
     "schema_version": 3,
     "solution": false,
     "task": false
    }
   },
   "outputs": [],
   "source": [
    "import numpy as np\n",
    "import openmesh as om\n",
    "from scipy.sparse import csr_matrix, diags\n",
    "from scipy.sparse.linalg import eigsh\n",
    "import k3d"
   ]
  },
  {
   "cell_type": "code",
   "execution_count": 4,
   "metadata": {
    "nbgrader": {
     "grade": false,
     "grade_id": "cell-7f270e90dd0cbaeb",
     "locked": true,
     "schema_version": 3,
     "solution": false,
     "task": false
    }
   },
   "outputs": [],
   "source": [
    "mesh = om.read_trimesh(\"spot_triangulated.obj\")"
   ]
  },
  {
   "cell_type": "markdown",
   "metadata": {
    "nbgrader": {
     "grade": false,
     "grade_id": "cell-6dc3d8f6fdfe1651",
     "locked": true,
     "schema_version": 3,
     "solution": false,
     "task": false
    }
   },
   "source": [
    "## Laplace-Beltrami\n",
    "In this task you are going to implement the Laplace-Beltrami operator.\n",
    "In the lecture we have described this operator as a sum, however in practice it usually makes more sense to write it as a matrix. This matrix can then e.g. be multiplied with the vertex positions to obtain the Discrete Mean Curvature Normal operator.\n",
    "This matrix can be split into two parts: \n",
    "- The mass matrix contains the vertex area\n",
    "- The (weak) Laplace matrix contains the cotangent weights\n",
    "\n",
    "In the following tasks you will build these two matrices.\n",
    "We have implemented two helper functions for you:\n",
    "- `triangle_area` computes the area of a triangle, given its three vertex positions\n",
    "- `cotangent_weight` computes the cotangent weight for a given edge. (In the lecture slides you see a factor of 1/2 before the sum, this factor is part of the cotangent weights)\n",
    "\n",
    "In previous exercises you have seen how to use the functions `diags` and `csr_matrix` to construct sparse matrices.\\\n",
    "In the introduction we introduced you to openmesh and have shown you how to obtain vertex coordinates, face-vertex indices and iterate over vertices or a vertex neigbourhood. Similarly you can iterate over faces, with `mesh.faces()` or obtain the faces, neighbouring a vertex with `mesh.vf(v)`\n",
    "The id of a face is obtained from a facee handle with `idx()` (similarly as for vertices).\\\n",
    "Furthermore, for this exercise you will need to get the two vertices of an edge. \n",
    "These can be obtained with `mesh.to_vertex_handle(mesh.halfedge_handle(eh,0))`. Replace 0 with 1 to obtain the other vertex."
   ]
  },
  {
   "cell_type": "code",
   "execution_count": 5,
   "metadata": {
    "nbgrader": {
     "grade": false,
     "grade_id": "cell-499c895ba211ceea",
     "locked": false,
     "schema_version": 3,
     "solution": true,
     "task": false
    }
   },
   "outputs": [],
   "source": [
    "# helper function: given triangle vertices, compute area\n",
    "def triangle_area(a,b,c):\n",
    "    return np.linalg.norm(np.cross(b-a,c-a))/2\n",
    "    \n",
    "def mass_matrix(mesh):\n",
    "    ### YOUR CODE HERE\n",
    "    \n",
    "    v_area_matrix = []\n",
    "    pts = mesh.points()\n",
    "    faces = mesh.fv_indices()\n",
    "\n",
    "    for vh in mesh.vertices():\n",
    "        v_area = 0\n",
    "        \n",
    "        #iterate over all outgoing halfedges\n",
    "        for oh in mesh.voh(vh):\n",
    "            #face handle for halfedge\n",
    "            fh = mesh.face_handle(oh)\n",
    "            face_indices = faces[fh.idx()]\n",
    "            face_pts = pts[face_indices]\n",
    "            #calc area again and again is inefficient, store all areas for faces and \n",
    "            #access as required\n",
    "            area = triangle_area(face_pts[0], face_pts[1], face_pts[2])\n",
    "            v_area += area\n",
    "        \n",
    "        v_area = v_area/3\n",
    "        v_area_matrix.append(v_area)\n",
    "    #print(diags(v_area_matrix))\n",
    "    return diags(v_area_matrix)\n",
    "\n",
    "# helper function: given edge, compute cotangent weight\n",
    "def cotangent_weight(mesh, eh):\n",
    "    v0 = mesh.point(mesh.to_vertex_handle(mesh.halfedge_handle(eh,0)))\n",
    "    v1 = mesh.point(mesh.to_vertex_handle(mesh.halfedge_handle(eh,1)))\n",
    "    weight = 0\n",
    "    for i in range(2):\n",
    "        heh = mesh.halfedge_handle(eh,i)\n",
    "        opp_v = mesh.point(mesh.to_vertex_handle(mesh.next_halfedge_handle(heh)))\n",
    "        dir1 = opp_v - v0\n",
    "        dir2 = opp_v - v1\n",
    "        weight += np.dot(dir1,dir2) / np.linalg.norm(np.cross(dir1,dir2))\n",
    "    return weight / 2\n",
    "\n",
    "def laplace_matrix(mesh):\n",
    "    ### YOUR CODE HERE - solved from Discrete laplace Wikipedia\n",
    "    #see official soln for an faster computation\n",
    "    n_v = len(mesh.points())\n",
    "    l_mat = csr_matrix((n_v, n_v))\n",
    "    \n",
    "    for vh in mesh.vertices():       \n",
    "        #iterate over all outgoing halfedges\n",
    "        for oh in mesh.voh(vh): \n",
    "            eh = mesh.edge_handle(oh)\n",
    "            weight = cotangent_weight(mesh, eh)\n",
    "            \n",
    "            vi_idx = mesh.from_vertex_handle(oh).idx()\n",
    "            vj_idx = mesh.to_vertex_handle(oh).idx()\n",
    "            \n",
    "            l_mat[vi_idx, vj_idx] = weight\n",
    "            \n",
    "    #now need to do the diag elements\n",
    "    for vh in mesh.vertices():        \n",
    "        d_entry = 0\n",
    "        #iterate over all outgoing halfedges\n",
    "        for oh in mesh.voh(vh): \n",
    "            vi_idx = mesh.from_vertex_handle(oh).idx()\n",
    "            vj_idx = mesh.to_vertex_handle(oh).idx()\n",
    "            \n",
    "            l_mat[vi_idx, vi_idx] -= l_mat[vi_idx, vj_idx]\n",
    "\n",
    "    return l_mat\n",
    "\n",
    "def invert_diagonal_matrix(D):\n",
    "    d = D.diagonal()\n",
    "    zero_mask = d == 0\n",
    "    inv_m = diags(np.where(zero_mask, 1, 1/d))\n",
    "    #print(inv_m.shape) 2930x2930\n",
    "    #print(type(inv_m)) - dia_matrix\n",
    "    return inv_m\n",
    "\n"
   ]
  },
  {
   "cell_type": "code",
   "execution_count": 6,
   "metadata": {
    "nbgrader": {
     "grade": false,
     "grade_id": "cell-30ac888efe6ce45a",
     "locked": true,
     "schema_version": 3,
     "solution": false,
     "task": false
    }
   },
   "outputs": [
    {
     "name": "stderr",
     "output_type": "stream",
     "text": [
      "C:\\Users\\lenovo1\\.conda\\envs\\shapeanalysis\\lib\\site-packages\\scipy\\sparse\\_index.py:103: SparseEfficiencyWarning: Changing the sparsity structure of a csr_matrix is expensive. lil_matrix is more efficient.\n",
      "  self._set_intXint(row, col, x.flat[0])\n"
     ]
    }
   ],
   "source": [
    "M = mass_matrix(mesh)\n",
    "M_inv = invert_diagonal_matrix(M)\n",
    "L = laplace_matrix(mesh)\n",
    "hn = M_inv.dot(L.dot(mesh.points()))\n",
    "h = np.linalg.norm(hn, axis=1)\n",
    "normals = hn / h[:,None]"
   ]
  },
  {
   "cell_type": "markdown",
   "metadata": {
    "nbgrader": {
     "grade": false,
     "grade_id": "cell-091f4d29977528a5",
     "locked": true,
     "schema_version": 3,
     "solution": false,
     "task": false
    }
   },
   "source": [
    "In the following plot you should see curved areas colored in yellow and flat areas colored in purple.\n",
    "Furthermore the normals should be orthogonal to the surface and point outwards in convex areas."
   ]
  },
  {
   "cell_type": "code",
   "execution_count": 7,
   "metadata": {
    "nbgrader": {
     "grade": false,
     "grade_id": "cell-6dd4c305506a4836",
     "locked": true,
     "schema_version": 3,
     "solution": false,
     "task": false
    },
    "scrolled": true
   },
   "outputs": [
    {
     "name": "stderr",
     "output_type": "stream",
     "text": [
      "C:\\Users\\lenovo1\\.conda\\envs\\shapeanalysis\\lib\\site-packages\\traittypes\\traittypes.py:97: UserWarning: Given trait value dtype \"float64\" does not match required type \"float32\". A coerced copy has been created.\n",
      "  warnings.warn(\n",
      "C:\\Users\\lenovo1\\.conda\\envs\\shapeanalysis\\lib\\site-packages\\traittypes\\traittypes.py:97: UserWarning: Given trait value dtype \"int32\" does not match required type \"uint32\". A coerced copy has been created.\n",
      "  warnings.warn(\n"
     ]
    },
    {
     "data": {
      "application/vnd.jupyter.widget-view+json": {
       "model_id": "039cc2d4f0394043b1fe920051368380",
       "version_major": 2,
       "version_minor": 0
      },
      "text/plain": [
       "Plot(antialias=3, axes=['x', 'y', 'z'], axes_helper=1.0, axes_helper_colors=[16711680, 65280, 255], background…"
      ]
     },
     "execution_count": 7,
     "metadata": {},
     "output_type": "execute_result"
    }
   ],
   "source": [
    "plot = k3d.plot()\n",
    "plot += k3d.mesh(mesh.points(), mesh.fv_indices(), attribute=h/2, \n",
    "                 color_map=k3d.colormaps.matplotlib_color_maps.viridis,\n",
    "                color_range=(0,10))\n",
    "plot += k3d.vectors(mesh.points(), normals/10, line_width=0.0001, use_head=False)\n",
    "plot"
   ]
  },
  {
   "cell_type": "code",
   "execution_count": 8,
   "metadata": {
    "nbgrader": {
     "grade": true,
     "grade_id": "cell-b2a307f64463697f",
     "locked": true,
     "points": 1,
     "schema_version": 3,
     "solution": false,
     "task": false
    }
   },
   "outputs": [],
   "source": [
    "np.testing.assert_array_almost_equal(M.todense()[range(5),range(5)], \n",
    "                                     [[0.00478942, 0.00284357, 0.00094711, 0.0006429, 0.00267439]], decimal=8)\n",
    "### BEGIN HIDDEN TESTS\n",
    "np.testing.assert_array_almost_equal(M.todense()[range(100,105),range(100,105)], \n",
    "           [[0.00019515, 0.00081228, 0.0005961, 0.0008419, 0.00028521]], decimal=8)\n",
    "### END HIDDEN TESTS"
   ]
  },
  {
   "cell_type": "code",
   "execution_count": 9,
   "metadata": {
    "nbgrader": {
     "grade": true,
     "grade_id": "cell-3c167fb61822eadf",
     "locked": true,
     "points": 2,
     "schema_version": 3,
     "solution": false,
     "task": false
    }
   },
   "outputs": [],
   "source": [
    "np.testing.assert_approx_equal(L.todense()[0,0], -4.230992097869423, significant=8)\n",
    "np.testing.assert_approx_equal(L.todense()[0,812], 1.4068019986623206, significant=8)\n",
    "np.testing.assert_approx_equal(L.todense()[729,2923], 1.0595635160548063, significant=8)\n",
    "### BEGIN HIDDEN TESTS\n",
    "np.testing.assert_approx_equal(L.todense()[1586,1586], -5.541093138478171, significant=8)\n",
    "np.testing.assert_approx_equal(L.todense()[1586,412], 0.08702211729571252, significant=8)\n",
    "np.testing.assert_approx_equal(L.todense()[2923,729], 1.0595635160548063, significant=8)\n",
    "### END HIDDEN TESTS"
   ]
  },
  {
   "cell_type": "markdown",
   "metadata": {
    "nbgrader": {
     "grade": false,
     "grade_id": "cell-cdaccda299288b5a",
     "locked": true,
     "schema_version": 3,
     "solution": false,
     "task": false
    }
   },
   "source": [
    "## Heat Kernel Signature\n",
    "In this task you will use the previously defined Laplace-Beltrami operator to compute the Heat Kernel Signature.\n",
    "You can compute the eigenvalues and eigenvectors using scipy with the function  call `eigsh(L, n_eig, M, sigma=0)`.\n",
    "Besides the previously computed (weak) Laplacian and mass matrix, the function `heat_kernel_signature(L, M, n_eig, t)` gets as input the number of eigenvalues we will use, and the time step.\n",
    "You can check your result by trying out several values for the time step"
   ]
  },
  {
   "cell_type": "code",
   "execution_count": 96,
   "metadata": {
    "nbgrader": {
     "grade": false,
     "grade_id": "cell-be5b39ae83242cbc",
     "locked": false,
     "schema_version": 3,
     "solution": true,
     "task": false
    }
   },
   "outputs": [],
   "source": [
    "def heat_kernel_signature(L, M, n_eig, t):\n",
    "    ### YOUR CODE HERE\n",
    "    #M is mass matrix\n",
    "    #n_eig The number of eigenvalues and eigenvectors desired.\n",
    "    #If M is specified, solves A @ x[i] = w[i] * M @ x[i], \n",
    "    #the generalized eigenvalue problem for w[i] eigenvalues with corresponding eigenvectors x[i].\n",
    "    w,v = eigsh(L, n_eig, M, sigma=0)\n",
    "#     print(w.shape)\n",
    "#     print(v.shape)\n",
    "    \n",
    "    #not sure abt this, verify if used\n",
    "    w_vals = np.exp(-1*abs(w)*t)\n",
    "    #print(w_vals.shape)\n",
    "    v_vals = np.multiply(v,v)\n",
    "    #print(v_vals.shape[0])\n",
    "    mat = np.zeros(v_vals.shape[0])\n",
    "                       \n",
    "    for i in range(len(w_vals)) :\n",
    "        mat += w_vals[i]*v_vals[:, i]\n",
    "        \n",
    "#     print(w[None, :].shape)\n",
    "    \n",
    "    return mat"
   ]
  },
  {
   "cell_type": "code",
   "execution_count": 93,
   "metadata": {},
   "outputs": [],
   "source": [
    "vals = heat_kernel_signature(L,M,100,1e-3)"
   ]
  },
  {
   "cell_type": "code",
   "execution_count": 94,
   "metadata": {
    "nbgrader": {
     "grade": false,
     "grade_id": "cell-597c5ad8cef3cb3b",
     "locked": true,
     "schema_version": 3,
     "solution": false,
     "task": false
    }
   },
   "outputs": [
    {
     "data": {
      "application/vnd.jupyter.widget-view+json": {
       "model_id": "703c606004af42f8ab0f2214ce80ae1f",
       "version_major": 2,
       "version_minor": 0
      },
      "text/plain": [
       "Plot(antialias=3, axes=['x', 'y', 'z'], axes_helper=1.0, axes_helper_colors=[16711680, 65280, 255], background…"
      ]
     },
     "execution_count": 94,
     "metadata": {},
     "output_type": "execute_result"
    }
   ],
   "source": [
    "plot = k3d.plot()\n",
    "plot += k3d.mesh(mesh.points(), mesh.fv_indices(), attribute=vals, \n",
    "                 color_map=k3d.colormaps.matplotlib_color_maps.viridis)\n",
    "plot"
   ]
  },
  {
   "cell_type": "code",
   "execution_count": 95,
   "metadata": {
    "nbgrader": {
     "grade": true,
     "grade_id": "cell-6508949df589850c",
     "locked": true,
     "points": 1,
     "schema_version": 3,
     "solution": false,
     "task": false
    }
   },
   "outputs": [],
   "source": [
    "vals = heat_kernel_signature(L,M,100,1e-3)\n",
    "np.testing.assert_approx_equal(vals.min(), 9.59263418573553, significant=8)\n",
    "np.testing.assert_approx_equal(vals.max(), 30.681926901103605, significant=8)"
   ]
  }
 ],
 "metadata": {
  "celltoolbar": "Create Assignment",
  "kernelspec": {
   "display_name": "Python 3 (ipykernel)",
   "language": "python",
   "name": "python3"
  },
  "language_info": {
   "codemirror_mode": {
    "name": "ipython",
    "version": 3
   },
   "file_extension": ".py",
   "mimetype": "text/x-python",
   "name": "python",
   "nbconvert_exporter": "python",
   "pygments_lexer": "ipython3",
   "version": "3.8.16"
  }
 },
 "nbformat": 4,
 "nbformat_minor": 4
}
