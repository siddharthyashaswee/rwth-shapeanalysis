{
 "cells": [
  {
   "cell_type": "markdown",
   "metadata": {
    "nbgrader": {
     "grade": false,
     "grade_id": "cell-04429c6213cf7e2d",
     "locked": true,
     "schema_version": 3,
     "solution": false,
     "task": false
    }
   },
   "source": [
    "# Shape Descriptors\n",
    "In this notebook we will implement the Laplace Beltrami operator and use it to compute the mean curvature and normals as well as the heat kernel signature for an example mesh."
   ]
  },
  {
   "cell_type": "code",
   "execution_count": 1,
   "metadata": {
    "nbgrader": {
     "grade": false,
     "grade_id": "cell-c0df808dee64e4a4",
     "locked": true,
     "schema_version": 3,
     "solution": false,
     "task": false
    }
   },
   "outputs": [],
   "source": [
    "import numpy as np\n",
    "import openmesh as om\n",
    "from scipy.sparse import csr_matrix, diags\n",
    "from scipy.sparse.linalg import eigsh\n",
    "import k3d"
   ]
  },
  {
   "cell_type": "code",
   "execution_count": 2,
   "metadata": {
    "nbgrader": {
     "grade": false,
     "grade_id": "cell-7f270e90dd0cbaeb",
     "locked": true,
     "schema_version": 3,
     "solution": false,
     "task": false
    }
   },
   "outputs": [],
   "source": [
    "mesh = om.read_trimesh(\"spot_triangulated.obj\")"
   ]
  },
  {
   "cell_type": "markdown",
   "metadata": {
    "nbgrader": {
     "grade": false,
     "grade_id": "cell-6dc3d8f6fdfe1651",
     "locked": true,
     "schema_version": 3,
     "solution": false,
     "task": false
    }
   },
   "source": [
    "## Laplace-Beltrami\n",
    "In this task you are going to implement the Laplace-Beltrami operator.\n",
    "In the lecture we have described this operator as a sum, however in practice it usually makes more sense to write it as a matrix. This matrix can then e.g. be multiplied with the vertex positions to obtain the Discrete Mean Curvature Normal operator.\n",
    "This matrix can be split into two parts: \n",
    "- The mass matrix contains the vertex area\n",
    "- The (weak) Laplace matrix contains the cotangent weights\n",
    "\n",
    "In the following tasks you will build these two matrices.\n",
    "We have implemented two helper functions for you:\n",
    "- `triangle_area` computes the area of a triangle, given its three vertex positions\n",
    "- `cotangent_weight` computes the cotangent weight for a given edge. (In the lecture slides you see a factor of 1/2 before the sum, this factor is part of the cotangent weights)\n",
    "\n",
    "In previous exercises you have seen how to use the functions `diags` and `csr_matrix` to construct sparse matrices.\\\n",
    "In the introduction we introduced you to openmesh and have shown you how to obtain vertex coordinates, face-vertex indices and iterate over vertices or a vertex neigbourhood. Similarly you can iterate over faces, with `mesh.faces()` or obtain the faces, neighbouring a vertex with `mesh.vf(v)`\n",
    "The id of a face is obtained from a facee handle with `idx()` (similarly as for vertices).\\\n",
    "Furthermore, for this exercise you will need to get the two vertices of an edge. \n",
    "These can be obtained with `mesh.to_vertex_handle(mesh.halfedge_handle(eh,0))`. Replace 0 with 1 to obtain the other vertex."
   ]
  },
  {
   "cell_type": "code",
   "execution_count": 3,
   "metadata": {
    "nbgrader": {
     "grade": false,
     "grade_id": "cell-499c895ba211ceea",
     "locked": false,
     "schema_version": 3,
     "solution": true,
     "task": false
    }
   },
   "outputs": [],
   "source": [
    "# helper function: given triangle vertices, compute area\n",
    "def triangle_area(a,b,c):\n",
    "    return np.linalg.norm(np.cross(b-a,c-a))/2\n",
    "    \n",
    "def mass_matrix(mesh):\n",
    "    ### BEGIN SOLUTION\n",
    "    # compute area for all triangles\n",
    "    points = mesh.points()\n",
    "    faces = mesh.fv_indices()\n",
    "    area = np.empty(len(mesh.faces()))\n",
    "    for f in mesh.faces():\n",
    "        face = points[faces[f.idx()]]\n",
    "        area[f.idx()]=triangle_area(face[0],face[1],face[2])\n",
    "\n",
    "    # convert to vertex area\n",
    "    vertex_area = np.zeros(len(mesh.vertices()))\n",
    "    for v in mesh.vertices():\n",
    "        for vf in mesh.vf(v):\n",
    "            vertex_area[v.idx()] += area[vf.idx()] / 3\n",
    "    return diags(vertex_area) \n",
    "    ### END SOLUTION\n",
    "\n",
    "# helper function: given edge, compute cotangent weight\n",
    "def cotangent_weight(mesh, eh):\n",
    "    v0 = mesh.point(mesh.to_vertex_handle(mesh.halfedge_handle(eh,0)))\n",
    "    v1 = mesh.point(mesh.to_vertex_handle(mesh.halfedge_handle(eh,1)))\n",
    "    weight = 0\n",
    "    for i in range(2):\n",
    "        heh = mesh.halfedge_handle(eh,i)\n",
    "        opp_v = mesh.point(mesh.to_vertex_handle(mesh.next_halfedge_handle(heh)))\n",
    "        dir1 = opp_v - v0\n",
    "        dir2 = opp_v - v1\n",
    "        weight += np.dot(dir1,dir2) / np.linalg.norm(np.cross(dir1,dir2))\n",
    "    return weight / 2\n",
    "\n",
    "def laplace_matrix(mesh):\n",
    "    ### BEGIN SOLUTION\n",
    "    n = len(mesh.vertices())\n",
    "    rows = []\n",
    "    cols = []\n",
    "    data = []\n",
    "    diag = np.zeros(n)\n",
    "    for e in mesh.edges():\n",
    "        cot_weight = cotangent_weight(mesh, e)\n",
    "        v0 = mesh.to_vertex_handle(mesh.halfedge_handle(e,0))\n",
    "        v1 = mesh.to_vertex_handle(mesh.halfedge_handle(e,1))\n",
    "        rows.append(v0.idx())\n",
    "        cols.append(v1.idx())\n",
    "        data.append(+cot_weight)\n",
    "        rows.append(v1.idx())\n",
    "        cols.append(v0.idx())\n",
    "        data.append(+cot_weight)\n",
    "        diag[v0.idx()] -= cot_weight\n",
    "        diag[v1.idx()] -= cot_weight\n",
    "    return csr_matrix((data, (rows, cols)), shape=(n,n)) + diags(diag)\n",
    "    ### END SOLUTION\n",
    "\n",
    "def invert_diagonal_matrix(D):\n",
    "    d = D.diagonal()\n",
    "    zero_mask = d == 0\n",
    "    return diags(np.where(zero_mask, 1, 1/d))\n",
    "\n"
   ]
  },
  {
   "cell_type": "code",
   "execution_count": 4,
   "metadata": {
    "nbgrader": {
     "grade": false,
     "grade_id": "cell-30ac888efe6ce45a",
     "locked": true,
     "schema_version": 3,
     "solution": false,
     "task": false
    }
   },
   "outputs": [],
   "source": [
    "M = mass_matrix(mesh)\n",
    "M_inv = invert_diagonal_matrix(M)\n",
    "L = laplace_matrix(mesh)\n",
    "\n",
    "hn = M_inv.dot(L.dot(mesh.points()))\n",
    "h = np.linalg.norm(hn, axis=1)\n",
    "normals = hn / h[:,None]"
   ]
  },
  {
   "cell_type": "markdown",
   "metadata": {
    "nbgrader": {
     "grade": false,
     "grade_id": "cell-091f4d29977528a5",
     "locked": true,
     "schema_version": 3,
     "solution": false,
     "task": false
    }
   },
   "source": [
    "In the following plot you should see curved areas colored in yellow and flat areas colored in purple.\n",
    "Furthermore the normals should be orthogonal to the surface and point outwards in convex areas."
   ]
  },
  {
   "cell_type": "code",
   "execution_count": 5,
   "metadata": {
    "nbgrader": {
     "grade": false,
     "grade_id": "cell-6dd4c305506a4836",
     "locked": true,
     "schema_version": 3,
     "solution": false,
     "task": false
    }
   },
   "outputs": [
    {
     "name": "stderr",
     "output_type": "stream",
     "text": [
      "C:\\Users\\lenovo1\\.conda\\envs\\shapeanalysis\\lib\\site-packages\\traittypes\\traittypes.py:97: UserWarning: Given trait value dtype \"float64\" does not match required type \"float32\". A coerced copy has been created.\n",
      "  warnings.warn(\n",
      "C:\\Users\\lenovo1\\.conda\\envs\\shapeanalysis\\lib\\site-packages\\traittypes\\traittypes.py:97: UserWarning: Given trait value dtype \"int32\" does not match required type \"uint32\". A coerced copy has been created.\n",
      "  warnings.warn(\n"
     ]
    },
    {
     "data": {
      "application/vnd.jupyter.widget-view+json": {
       "model_id": "d4b6376f3f534592ba27fa9e95b0f295",
       "version_major": 2,
       "version_minor": 0
      },
      "text/plain": [
       "Plot(antialias=3, axes=['x', 'y', 'z'], axes_helper=1.0, axes_helper_colors=[16711680, 65280, 255], background…"
      ]
     },
     "execution_count": 5,
     "metadata": {},
     "output_type": "execute_result"
    }
   ],
   "source": [
    "plot = k3d.plot()\n",
    "plot += k3d.mesh(mesh.points(), mesh.fv_indices(), attribute=h/2, \n",
    "                 color_map=k3d.colormaps.matplotlib_color_maps.viridis,\n",
    "                color_range=(0,10))\n",
    "plot += k3d.vectors(mesh.points(), normals/10, line_width=0.0001, use_head=False)\n",
    "plot"
   ]
  },
  {
   "cell_type": "code",
   "execution_count": 6,
   "metadata": {
    "nbgrader": {
     "grade": true,
     "grade_id": "cell-b2a307f64463697f",
     "locked": true,
     "points": 1,
     "schema_version": 3,
     "solution": false,
     "task": false
    }
   },
   "outputs": [],
   "source": [
    "np.testing.assert_array_almost_equal(M.todense()[range(5),range(5)], \n",
    "                                     [[0.00478942, 0.00284357, 0.00094711, 0.0006429, 0.00267439]], decimal=8)\n",
    "### BEGIN HIDDEN TESTS\n",
    "np.testing.assert_array_almost_equal(M.todense()[range(100,105),range(100,105)], \n",
    "           [[0.00019515, 0.00081228, 0.0005961, 0.0008419, 0.00028521]], decimal=8)\n",
    "### END HIDDEN TESTS"
   ]
  },
  {
   "cell_type": "code",
   "execution_count": 7,
   "metadata": {
    "nbgrader": {
     "grade": true,
     "grade_id": "cell-3c167fb61822eadf",
     "locked": true,
     "points": 2,
     "schema_version": 3,
     "solution": false,
     "task": false
    }
   },
   "outputs": [],
   "source": [
    "np.testing.assert_approx_equal(L.todense()[0,0], -4.230992097869423, significant=8)\n",
    "np.testing.assert_approx_equal(L.todense()[0,812], 1.4068019986623206, significant=8)\n",
    "np.testing.assert_approx_equal(L.todense()[729,2923], 1.0595635160548063, significant=8)\n",
    "### BEGIN HIDDEN TESTS\n",
    "np.testing.assert_approx_equal(L.todense()[1586,1586], -5.541093138478171, significant=8)\n",
    "np.testing.assert_approx_equal(L.todense()[1586,412], 0.08702211729571252, significant=8)\n",
    "np.testing.assert_approx_equal(L.todense()[2923,729], 1.0595635160548063, significant=8)\n",
    "### END HIDDEN TESTS"
   ]
  },
  {
   "cell_type": "markdown",
   "metadata": {
    "nbgrader": {
     "grade": false,
     "grade_id": "cell-cdaccda299288b5a",
     "locked": true,
     "schema_version": 3,
     "solution": false,
     "task": false
    }
   },
   "source": [
    "## Heat Kernel Signature\n",
    "In this task you will use the previously defined Laplace-Beltrami operator to compute the Heat Kernel Signature.\n",
    "You can compute the eigenvalues and eigenvectors using scipy with the function  call `eigsh(L, n_eig, M, sigma=0)`.\n",
    "Besides the previously computed (weak) Laplacian and mass matrix, the function `heat_kernel_signature(L, M, n_eig, t)` gets as input the number of eigenvalues we will use, and the time step.\n",
    "You can check your result by trying out several values for the time step"
   ]
  },
  {
   "cell_type": "code",
   "execution_count": 8,
   "metadata": {
    "nbgrader": {
     "grade": false,
     "grade_id": "cell-be5b39ae83242cbc",
     "locked": false,
     "schema_version": 3,
     "solution": true,
     "task": false
    }
   },
   "outputs": [],
   "source": [
    "def heat_kernel_signature(L, M, n_eig, t):\n",
    "    ### BEGIN SOLUTION\n",
    "    (eigvalues, eigvectors) = eigsh(L, n_eig, M, sigma=0)\n",
    "    res = (eigvectors**2)*np.exp(eigvalues[None, :]*t)\n",
    "    hks = np.sum(res, 1)\n",
    "    return hks\n",
    "    ### END SOLUTION"
   ]
  },
  {
   "cell_type": "code",
   "execution_count": 9,
   "metadata": {},
   "outputs": [],
   "source": [
    "vals = heat_kernel_signature(L,M,100,1e-3)"
   ]
  },
  {
   "cell_type": "code",
   "execution_count": 10,
   "metadata": {
    "nbgrader": {
     "grade": false,
     "grade_id": "cell-597c5ad8cef3cb3b",
     "locked": true,
     "schema_version": 3,
     "solution": false,
     "task": false
    }
   },
   "outputs": [
    {
     "data": {
      "application/vnd.jupyter.widget-view+json": {
       "model_id": "a48343961c9d42c5a5c5e286295227c0",
       "version_major": 2,
       "version_minor": 0
      },
      "text/plain": [
       "Plot(antialias=3, axes=['x', 'y', 'z'], axes_helper=1.0, axes_helper_colors=[16711680, 65280, 255], background…"
      ]
     },
     "execution_count": 10,
     "metadata": {},
     "output_type": "execute_result"
    }
   ],
   "source": [
    "plot = k3d.plot()\n",
    "plot += k3d.mesh(mesh.points(), mesh.fv_indices(), attribute=vals, \n",
    "                 color_map=k3d.colormaps.matplotlib_color_maps.viridis)\n",
    "plot"
   ]
  },
  {
   "cell_type": "code",
   "execution_count": 12,
   "metadata": {
    "nbgrader": {
     "grade": true,
     "grade_id": "cell-6508949df589850c",
     "locked": true,
     "points": 1,
     "schema_version": 3,
     "solution": false,
     "task": false
    }
   },
   "outputs": [],
   "source": [
    "vals = heat_kernel_signature(L,M,100,1e-3)\n",
    "np.testing.assert_approx_equal(vals.min(), 9.59263418573553, significant=8)\n",
    "np.testing.assert_approx_equal(vals.max(), 30.681926901103605, significant=8)\n",
    "### BEGIN HIDDEN TESTS\n",
    "np.testing.assert_approx_equal(vals[3], 15.067041257653644, significant=8)\n",
    "np.testing.assert_approx_equal(vals[1574], 17.490230256133586, significant=8)\n",
    "np.testing.assert_approx_equal(vals[2745], 24.479548469929288, significant=8)\n",
    "### END HIDDEN TESTS"
   ]
  }
 ],
 "metadata": {
  "celltoolbar": "Create Assignment",
  "kernelspec": {
   "display_name": "Python 3 (ipykernel)",
   "language": "python",
   "name": "python3"
  },
  "language_info": {
   "codemirror_mode": {
    "name": "ipython",
    "version": 3
   },
   "file_extension": ".py",
   "mimetype": "text/x-python",
   "name": "python",
   "nbconvert_exporter": "python",
   "pygments_lexer": "ipython3",
   "version": "3.8.16"
  }
 },
 "nbformat": 4,
 "nbformat_minor": 4
}
