{
 "cells": [
  {
   "cell_type": "markdown",
   "id": "60ba9496",
   "metadata": {},
   "source": [
    "Before you turn this problem in, make sure everything runs as expected. First, **restart the kernel** (in the menubar, select Kernel$\\rightarrow$Restart) and then **run all cells** (in the menubar, select Cell$\\rightarrow$Run All).\n",
    "\n",
    "Make sure you fill in any place that says `YOUR CODE HERE` or \"YOUR ANSWER HERE\", as well as your name and collaborators below:"
   ]
  },
  {
   "cell_type": "code",
   "execution_count": 1,
   "id": "5e0d4589",
   "metadata": {},
   "outputs": [],
   "source": [
    "NAME = \"SIDDHARTH YASHASWEE\"\n",
    "COLLABORATORS = \"\""
   ]
  },
  {
   "cell_type": "code",
   "execution_count": 2,
   "id": "naughty-university",
   "metadata": {
    "nbgrader": {
     "grade": false,
     "grade_id": "import",
     "locked": true,
     "schema_version": 3,
     "solution": false,
     "task": false
    }
   },
   "outputs": [],
   "source": [
    "import numpy as np\n",
    "import openmesh as om"
   ]
  },
  {
   "cell_type": "markdown",
   "id": "amino-trauma",
   "metadata": {
    "nbgrader": {
     "grade": false,
     "grade_id": "cell-1f148e6786ec925b",
     "locked": true,
     "schema_version": 3,
     "solution": false,
     "task": false
    }
   },
   "source": [
    "# Part A\n",
    "Write a function that reads `spot/spot_triangulated.obj` file and returns the number of vertices and faces in the mesh as a tuple."
   ]
  },
  {
   "cell_type": "code",
   "execution_count": 3,
   "id": "working-ticket",
   "metadata": {
    "nbgrader": {
     "grade": false,
     "grade_id": "n_verts_and_faces",
     "locked": false,
     "schema_version": 3,
     "solution": true,
     "task": false
    }
   },
   "outputs": [],
   "source": [
    "def n_verts_and_faces():\n",
    "    ### BEGIN SOLUTION\n",
    "    mesh = om.read_trimesh(\"spot_triangulated.obj\")\n",
    "    return (mesh.n_vertices(), mesh.n_faces());\n",
    "    ### END SOLUTION"
   ]
  },
  {
   "cell_type": "code",
   "execution_count": 4,
   "id": "thermal-diabetes",
   "metadata": {
    "nbgrader": {
     "grade": true,
     "grade_id": "n_verts_and_faces_test",
     "locked": true,
     "points": 0,
     "schema_version": 3,
     "solution": false,
     "task": false
    }
   },
   "outputs": [],
   "source": [
    "assert n_verts_and_faces() == (2930, 5856)\n",
    "### BEGIN HIDDEN TESTS\n",
    "assert len(n_verts_and_faces()) == 2\n",
    "### END HIDDEN TESTS"
   ]
  }
 ],
 "metadata": {
  "celltoolbar": "Create Assignment",
  "kernelspec": {
   "display_name": "Python 3 (ipykernel)",
   "language": "python",
   "name": "python3"
  },
  "language_info": {
   "codemirror_mode": {
    "name": "ipython",
    "version": 3
   },
   "file_extension": ".py",
   "mimetype": "text/x-python",
   "name": "python",
   "nbconvert_exporter": "python",
   "pygments_lexer": "ipython3",
   "version": "3.8.16"
  }
 },
 "nbformat": 4,
 "nbformat_minor": 5
}
