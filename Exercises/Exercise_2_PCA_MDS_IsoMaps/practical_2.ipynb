{
 "cells": [
  {
   "cell_type": "markdown",
   "id": "19da5216",
   "metadata": {},
   "source": [
    "Before you turn this problem in, make sure everything runs as expected. First, **restart the kernel** (in the menubar, select Kernel$\\rightarrow$Restart) and then **run all cells** (in the menubar, select Cell$\\rightarrow$Run All).\n",
    "\n",
    "Make sure you fill in any place that says `YOUR CODE HERE` or \"YOUR ANSWER HERE\", as well as your name and collaborators below:"
   ]
  },
  {
   "cell_type": "code",
   "execution_count": 1,
   "id": "b5ee8a11",
   "metadata": {},
   "outputs": [],
   "source": [
    "NAME = \"SIDDHARTH YASHASWEE\"\n",
    "COLLABORATORS = \"\""
   ]
  },
  {
   "cell_type": "markdown",
   "id": "c73de4f9",
   "metadata": {},
   "source": [
    "---"
   ]
  },
  {
   "cell_type": "markdown",
   "id": "settled-fetish",
   "metadata": {
    "nbgrader": {
     "grade": false,
     "grade_id": "cell-5fa2351aafbefc2c",
     "locked": true,
     "schema_version": 3,
     "solution": false,
     "task": false
    }
   },
   "source": [
    "# Dimensionality Reduction\n",
    "In this exercise you will implement PCA, MDS and IsoMap.\n",
    "The imported libraries below are sufficient to solve the tasks. You are not allowed to use any additional libraries."
   ]
  },
  {
   "cell_type": "code",
   "execution_count": null,
   "id": "flush-clock",
   "metadata": {
    "nbgrader": {
     "grade": false,
     "grade_id": "cell-d71cf60b236aec6c",
     "locked": true,
     "schema_version": 3,
     "solution": false,
     "task": false
    }
   },
   "outputs": [],
   "source": [
    "import matplotlib.pyplot as plt\n",
    "import numpy as np\n",
    "import k3d\n",
    "from scipy.spatial.distance import cdist\n",
    "from scipy.sparse import csr_matrix\n",
    "from scipy.sparse.csgraph import shortest_path\n",
    "np.random.seed(42)"
   ]
  },
  {
   "cell_type": "markdown",
   "id": "aging-jumping",
   "metadata": {
    "nbgrader": {
     "grade": false,
     "grade_id": "cell-5b1aaf65ea792bd7",
     "locked": true,
     "schema_version": 3,
     "solution": false,
     "task": false
    }
   },
   "source": [
    "## PCA\n",
    "For PCA we consider a set of 64x64 images of different faces. You can see an example below.\n",
    "You will have to implement the functions `compute_principal_components`, `project_pca`, and `unproject_pca`.\n",
    "`compute_principal_components` returns a $d\\times k$ matrix, consisting of the $k$ principal components that are the orthogonal basis of the embedding space. Each principal component is thus $d$-dimensional. Projecting the vectors in the datasets results in $k$-dimensional embeddings. In order to reconstruct vectors of the original $d$-dimensional size (from the lower dimensional projected $k$-dimensional ones), you can use the transpose of your computed principal components matrix. To compute the singular value decomposition you can use `np.linalg.svd` (see the documentation [here](https://numpy.org/doc/stable/reference/generated/numpy.linalg.svd.html)). Alternatively, if you prefer to compute the eigendecomposition you can use `np.linalg.eigh` (see the documentation [here](https://numpy.org/doc/stable/reference/generated/numpy.linalg.eigh.html)).\n",
    "\n",
    "For 2D plots $k=2$. However, you can also try out higher values (e.g. $k=32$ or $k=100$). Then the reconstructions should be closer to the original face images."
   ]
  },
  {
   "cell_type": "code",
   "execution_count": null,
   "id": "quantitative-suite",
   "metadata": {
    "nbgrader": {
     "grade": false,
     "grade_id": "cell-fc96de32bc20ee01",
     "locked": true,
     "schema_version": 3,
     "solution": false,
     "task": false
    }
   },
   "outputs": [],
   "source": [
    "###FOR SOLUTION USING SVD, see the official solution\n",
    "faces = np.load(\"faces.npy\")\n",
    "print(faces.shape)"
   ]
  },
  {
   "cell_type": "code",
   "execution_count": null,
   "id": "equipped-numbers",
   "metadata": {},
   "outputs": [],
   "source": [
    "plt.imshow(faces[0].reshape(64,64))"
   ]
  },
  {
   "cell_type": "code",
   "execution_count": null,
   "id": "f97ad1cb",
   "metadata": {},
   "outputs": [],
   "source": [
    "K = np.array([1,8,2,4,5,5,6,10])\n",
    "#prints indices of sorted array(asc), last 5 items, items from 5th element to last(see slicing in numpy)\n",
    "np.sort(K), np.argsort(K), np.argsort(K)[-5:], np.argsort(K)[5:]"
   ]
  },
  {
   "cell_type": "code",
   "execution_count": null,
   "id": "listed-college",
   "metadata": {
    "nbgrader": {
     "grade": false,
     "grade_id": "cell-71a8fbc25a80dd39",
     "locked": false,
     "schema_version": 3,
     "solution": true,
     "task": false
    }
   },
   "outputs": [],
   "source": [
    "def compute_principal_components(data, n_components):\n",
    "    ### YOUR CODE HERE - see slides for logic used\n",
    "    n_img = data.shape[0]\n",
    "    J = np.eye(n_img) - np.ones((n_img, n_img))/n_img\n",
    "    #print(J.shape) - 400x400\n",
    "    \n",
    "    C = (data.T@J@J.T@data)/n_img\n",
    "    #print(C.shape) - 4096x4096\n",
    "    eigenvalues, eigenvectors = np.linalg.eigh(C)\n",
    "    \n",
    "    eigenindex = np.argsort(eigenvalues)[-n_components:]\n",
    "    #print(eigenindex.shape) - (2,)\n",
    "\n",
    "    #print(eigenvectors.shape) - 4096x4096\n",
    "    pc = eigenvectors[:, eigenindex]\n",
    "    \n",
    "    #print(pc.shape) - 4096x2- asserted value wont change, change others instead\n",
    "    return pc\n",
    "    \n",
    "def project_pca(data, pc):\n",
    "    n_img = data.shape[0]\n",
    "    J = np.eye(n_img) - np.ones((n_img, n_img))/n_img\n",
    "    proj_data = pc.T @ data.T @ J\n",
    "    #print(proj_data.shape) - 2x400\n",
    "    return proj_data.T\n",
    "    \n",
    "def unproject_pca(proj_data, pc):\n",
    "    #print(proj_data.shape) - 400x2\n",
    "    unproj_data = pc @ proj_data.T   \n",
    "    return unproj_data.T"
   ]
  },
  {
   "cell_type": "code",
   "execution_count": null,
   "id": "portable-patrol",
   "metadata": {
    "nbgrader": {
     "grade": true,
     "grade_id": "pca",
     "locked": true,
     "points": 2,
     "schema_version": 3,
     "solution": false,
     "task": false
    }
   },
   "outputs": [],
   "source": [
    "n_comps = 2\n",
    "pc = compute_principal_components(faces, n_comps)\n",
    "proj_faces = project_pca(faces, pc)\n",
    "rec_faces = unproject_pca(proj_faces, pc)\n",
    "assert pc.shape == (faces.shape[-1], n_comps)\n",
    "assert proj_faces.shape == (faces.shape[0], n_comps)\n",
    "assert rec_faces.shape == faces.shape"
   ]
  },
  {
   "cell_type": "code",
   "execution_count": null,
   "id": "curious-bidding",
   "metadata": {},
   "outputs": [],
   "source": [
    "plt.scatter(proj_faces[:,0], proj_faces[:,1])\n",
    "_ = plt.axis('equal')"
   ]
  },
  {
   "cell_type": "code",
   "execution_count": null,
   "id": "spoken-slovenia",
   "metadata": {},
   "outputs": [],
   "source": [
    "fig, axes = plt.subplots(1,2, figsize=(10,10*2), sharex=True)\n",
    "centered_faces = faces - faces.mean(0)\n",
    "axes[0].imshow(rec_faces[2].reshape(64,64))\n",
    "axes[1].imshow(centered_faces[2].reshape(64,64))"
   ]
  },
  {
   "cell_type": "markdown",
   "id": "greenhouse-glenn",
   "metadata": {
    "nbgrader": {
     "grade": false,
     "grade_id": "cell-366089e53e863240",
     "locked": true,
     "schema_version": 3,
     "solution": false,
     "task": false
    }
   },
   "source": [
    "## MDS\n",
    "For MDS (and IsoMap) you will compute 2D embeddings of the 3D S dataset shown below. To this end implement the `mds` function that takes a Euclidean distance matrix as input and the number of dimensions of the lower dimensional embedding space (i.e. `n_comps`). For a 2D plot choose `n_comps = 2`. To compute the eigendecomposition you can use `np.linalg.eigh` (see the documentation [here](https://numpy.org/doc/stable/reference/generated/numpy.linalg.eigh.html)). To construct an identity matrix use `np.eye`. To generate a constant one matrix use `np.ones` or `np.ones_like`. For other mathematical operations you might need refer to the numpy documentation.\n",
    "\n",
    "The colors are added to the 3D and 2D scatter plots to make it easier for you to verify your results."
   ]
  },
  {
   "cell_type": "code",
   "execution_count": null,
   "id": "polar-fellowship",
   "metadata": {
    "nbgrader": {
     "grade": false,
     "grade_id": "cell-04bfbb5f196a999c",
     "locked": true,
     "schema_version": 3,
     "solution": false,
     "task": false
    }
   },
   "outputs": [],
   "source": [
    "s_curve = np.load(\"s.npy\")"
   ]
  },
  {
   "cell_type": "code",
   "execution_count": null,
   "id": "consolidated-float",
   "metadata": {},
   "outputs": [],
   "source": [
    "colors = k3d.helpers.map_colors(s_curve[:,-1], k3d.colormaps.matplotlib_color_maps.viridis).astype(np.uint32)\n",
    "k3d.points(s_curve.astype(np.float32), colors=colors, point_size=0.1)"
   ]
  },
  {
   "cell_type": "markdown",
   "id": "entitled-combine",
   "metadata": {
    "nbgrader": {
     "grade": false,
     "grade_id": "cell-813a10b8e9211367",
     "locked": true,
     "schema_version": 3,
     "solution": false,
     "task": false
    }
   },
   "source": [
    "We can compute the Euclidean distance matrix for the 3D points like this:"
   ]
  },
  {
   "cell_type": "code",
   "execution_count": null,
   "id": "random-strip",
   "metadata": {
    "nbgrader": {
     "grade": false,
     "grade_id": "cell-ed7b282f1673ed1d",
     "locked": true,
     "schema_version": 3,
     "solution": false,
     "task": false
    }
   },
   "outputs": [],
   "source": [
    "dists = cdist(s_curve, s_curve, 'euclidean')\n",
    "print(dists.shape)"
   ]
  },
  {
   "cell_type": "code",
   "execution_count": null,
   "id": "exclusive-sigma",
   "metadata": {
    "nbgrader": {
     "grade": false,
     "grade_id": "cell-bbd60693a099f85d",
     "locked": false,
     "schema_version": 3,
     "solution": true,
     "task": false
    }
   },
   "outputs": [],
   "source": [
    "def mds(dists, n_comps):\n",
    "    ### YOUR CODE HERE\n",
    "    n = dists.shape[0]\n",
    "    J = np.eye(n) - np.ones((n, n))/n\n",
    "    B = (-0.5)*(J@np.square(dists)@J)\n",
    "    #print(sq_dists.shape)\n",
    "    eigenvalues, eigenvectors = np.linalg.eigh(B)\n",
    "    eigenindex = np.argsort(eigenvalues)[-n_comps:]\n",
    "    v = eigenvectors[:, eigenindex]\n",
    "    \n",
    "    #print(v.shape)\n",
    "    \n",
    "    eigval = np.sqrt(eigenvalues[[eigenindex]])\n",
    "    \n",
    "    #print(eigval.shape)\n",
    "    X = np.multiply(v, eigval)\n",
    "    #print(X.shape)\n",
    "    \n",
    "    return X\n",
    "    "
   ]
  },
  {
   "cell_type": "code",
   "execution_count": null,
   "id": "thick-thickness",
   "metadata": {
    "nbgrader": {
     "grade": true,
     "grade_id": "mds",
     "locked": true,
     "points": 1,
     "schema_version": 3,
     "solution": false,
     "task": false
    }
   },
   "outputs": [],
   "source": [
    "s_emb = mds(dists, 2)\n",
    "assert s_emb.shape == (dists.shape[0], 2)"
   ]
  },
  {
   "cell_type": "code",
   "execution_count": null,
   "id": "unauthorized-uruguay",
   "metadata": {},
   "outputs": [],
   "source": [
    "plt.scatter(s_emb[:,0], s_emb[:,1], c=colors)\n",
    "_ = plt.axis('equal')"
   ]
  },
  {
   "cell_type": "markdown",
   "id": "headed-escape",
   "metadata": {
    "nbgrader": {
     "grade": false,
     "grade_id": "cell-954d5a490cc5d549",
     "locked": true,
     "schema_version": 3,
     "solution": false,
     "task": false
    }
   },
   "source": [
    "## IsoMap\n",
    "We will now apply IsoMap to the same S 3D dataset and compute a 2D embedding. The shortest path distance matrix can be computed for the pairwise graph distances on a neighbourhood graph with the given `shortest_path_dists` function. It takes the previously computed Euclidean distance matrix and a `eps` value that determines if points are connected by an edge or not. We recommend for you to set `eps = 0.35`. "
   ]
  },
  {
   "cell_type": "code",
   "execution_count": null,
   "id": "professional-railway",
   "metadata": {
    "nbgrader": {
     "grade": false,
     "grade_id": "cell-7fc1617f6505ccfe",
     "locked": false,
     "schema_version": 3,
     "solution": true,
     "task": false
    }
   },
   "outputs": [],
   "source": [
    "def shortest_path_dists(dists, eps=0.35):\n",
    "    rows = []\n",
    "    cols = []\n",
    "    data = []\n",
    "    for i in range(dists.shape[0]):\n",
    "        for j in range(i+1, dists.shape[0]):\n",
    "            if dists[i,j] <= eps:\n",
    "                rows.append(i)\n",
    "                cols.append(j)\n",
    "                data.append(dists[i,j])\n",
    "                rows.append(j)\n",
    "                cols.append(i)\n",
    "                data.append(dists[i,j])\n",
    "    adj_matrix = csr_matrix((data, (rows, cols)), shape=dists.shape)\n",
    "    path_dists = shortest_path(adj_matrix, directed=False)\n",
    "    return path_dists\n",
    "\n",
    "def isomap(dists, n_comps):\n",
    "    ### YOUR CODE HERE\n",
    "    spdists = shortest_path_dists(dists)\n",
    "    X = mds(spdists, n_comps)\n",
    "    return X\n",
    "    "
   ]
  },
  {
   "cell_type": "code",
   "execution_count": null,
   "id": "lasting-cinema",
   "metadata": {
    "nbgrader": {
     "grade": true,
     "grade_id": "isomap",
     "locked": true,
     "points": 1,
     "schema_version": 3,
     "solution": false,
     "task": false
    }
   },
   "outputs": [],
   "source": [
    "s_emb_iso = isomap(dists, 2)\n",
    "assert s_emb_iso.shape == (dists.shape[0], 2)"
   ]
  },
  {
   "cell_type": "code",
   "execution_count": null,
   "id": "frank-chamber",
   "metadata": {},
   "outputs": [],
   "source": [
    "plt.scatter(s_emb_iso[:,0], s_emb_iso[:,1], c=colors)\n",
    "_ = plt.axis('equal')"
   ]
  },
  {
   "cell_type": "code",
   "execution_count": null,
   "id": "c42f8aa6",
   "metadata": {},
   "outputs": [],
   "source": []
  }
 ],
 "metadata": {
  "celltoolbar": "Create Assignment",
  "kernelspec": {
   "display_name": "Python 3 (ipykernel)",
   "language": "python",
   "name": "python3"
  },
  "language_info": {
   "codemirror_mode": {
    "name": "ipython",
    "version": 3
   },
   "file_extension": ".py",
   "mimetype": "text/x-python",
   "name": "python",
   "nbconvert_exporter": "python",
   "pygments_lexer": "ipython3",
   "version": "3.8.16"
  }
 },
 "nbformat": 4,
 "nbformat_minor": 5
}
